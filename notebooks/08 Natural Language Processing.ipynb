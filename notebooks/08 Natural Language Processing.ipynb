{
 "cells": [
  {
   "cell_type": "markdown",
   "metadata": {},
   "source": [
    "# Machine Learning Demonstrations"
   ]
  },
  {
   "cell_type": "markdown",
   "metadata": {},
   "source": [
    "In this notebook, we showcase how to use kdb+/q Natural Language Processing library.\n",
    "\n",
    "<div class=\"alert alert-danger\">\n",
    "To run the below notebook, ensure that dependencies specified in <b>requirements.txt</b> have been correctly installed.\n",
    "</div>"
   ]
  },
  {
   "cell_type": "markdown",
   "metadata": {},
   "source": [
    "## Natural Language Processing"
   ]
  },
  {
   "cell_type": "markdown",
   "metadata": {},
   "source": [
    "Natural language processing (NLP) can be used to answer a variety of questions about unstructured text data, as well as facilitating open-ended exploration. It can be applied to datasets containing emails, online articles, comments, tweets, novels, etc.\n",
    "\n",
    "Although the source is text, transformations are applied to convert this data to vectors, dictionaries and symbols which can be handled very effectively by q. Many operations such as searching, clustering and keyword extraction can all be done using very simple data structures, such as feature vectors.\n",
    "\n",
    "The kdb+/q NLP library can be loaded using the below syntax."
   ]
  },
  {
   "cell_type": "code",
   "execution_count": 1,
   "metadata": {},
   "outputs": [],
   "source": [
    "\\l nlp/init.q"
   ]
  },
  {
   "cell_type": "markdown",
   "metadata": {},
   "source": [
    "## Preparing text"
   ]
  },
  {
   "cell_type": "markdown",
   "metadata": {},
   "source": [
    "In NLP, a collection of documents is called a corpus, with the plural being corpora.\n",
    "\n",
    "Text often comes with associated metadata. For e-mails, this could be the sender/receivers, date sent or labels applied. For online comments, this could include a username, rating or URL. As these are often relevant to the analysis, it is convenient to store the plain text and metadata together in a table, with a row for every document.\n",
    "\n",
    "Once the plain text has been retrieved, operations common to many higher-level NLP operations can be done. Operations include:\n",
    "- **Tokenization**: splits input into words or similar tokens, e.g. John’s > John and ‘s as separate tokens.\n",
    "- **Sentence detection**: gives indices at which sentences start and end.\n",
    "- **Part of speech tagger**: parses sentences into tokens and gives each token a label, e.g. lemma, pos, tag, etc. (Penn Treebank and Universal tags are both supported: http://universaldependencies.org/u/pos/).\n",
    "- **Lemmatization**: normalizes words to their base form, e.g. \"ran\" to \"run\".\n",
    "- **Sentiment analysis**: scores sentences for their negative, positive and neutral sentiment using a prebuilt model with degrees of positive/negative sentiment for English words and emoticons, as well as parsing to account for negation, adverbs and other modifiers."
   ]
  },
  {
   "cell_type": "markdown",
   "metadata": {},
   "source": [
    "## Sections"
   ]
  },
  {
   "cell_type": "markdown",
   "metadata": {},
   "source": [
    "This notebook is split into 3 distinct sections which cover different use cases for NLP algorithm.\n",
    "1. [Moby Dick](#Moby-Dick)\n",
    "2. [The Enron Email Dataset](#Enron)\n",
    "3. [VAST Challenge 2014](#VAST)"
   ]
  },
  {
   "cell_type": "code",
   "execution_count": 2,
   "metadata": {},
   "outputs": [],
   "source": [
    "/ load graphics functions used throughout\n",
    "\\l ml/ml.q\n",
    "\\l ../utils/graphics.q"
   ]
  },
  {
   "cell_type": "markdown",
   "metadata": {},
   "source": [
    "---"
   ]
  },
  {
   "cell_type": "markdown",
   "metadata": {
    "collapsed": true
   },
   "source": [
    "<a id='Moby-Dick'></a>\n",
    "# Moby Dick"
   ]
  },
  {
   "cell_type": "markdown",
   "metadata": {
    "collapsed": true
   },
   "source": [
    "In this section we analyze the text of Moby-Dick, which can be downloaded from the [Project Gutenberg](https://www.gutenberg.org/files/2701/2701-h/2701-h.htm) website.\n",
    "\n",
    "*\"Moby-Dick; or, The Whale is an 1851 novel by American writer Herman Melville. The book is sailor Ishmael's narrative of the obsessive quest of Ahab, captain of the whaling ship Pequod, for revenge on Moby Dick, the white whale that on the ship's previous voyage bit off Ahab's leg at the knee.\"* https://en.wikipedia.org/wiki/Moby-Dick. "
   ]
  },
  {
   "cell_type": "markdown",
   "metadata": {},
   "source": [
    "### Load data\n",
    "\n",
    "Below we read in data from `mobydick.txt`, mentioned above, and get rid of any bad new lines in the file."
   ]
  },
  {
   "cell_type": "code",
   "execution_count": 3,
   "metadata": {},
   "outputs": [],
   "source": [
    "/ read in data\n",
    "text:\"\\n\"sv read0`:../data/mobydick.txt\n",
    "removeBadNewlines:{@[x;1+(raze string x=\"\\n\")ss\"010\";:;\" \"]}\n",
    "mobyDick:(text ss \"CHAPTER \")cut removeBadNewlines text"
   ]
  },
  {
   "cell_type": "markdown",
   "metadata": {},
   "source": [
    "### Parse data\n",
    "\n",
    "The following options are available for the function `.nlp.newParser`:\n",
    "\n",
    "field       | content\n",
    "------------|------------------------------------------------------------------\n",
    "`text       | The original word text, returns a list of characters.\n",
    "`tokens     | The tokenized text, returns a list of symbols.\n",
    "`sentChars  | Indices of start and end of sentences, returns a list of lists of longs.\n",
    "`sentIndices| Indices of the first token of each sentences, returns a list of integers.\n",
    "`pennPOS    | The Penn Treebank tagset, returns a list of symbols.\n",
    "`uniPOS     | The Universal tagset, returns a list of symbols.\n",
    "`lemmas     | The base form of the word, returns a list of symbols.\n",
    "`isStop     | Is the token part of the stop list? Returns a boolean.\n",
    "`likeEmail  | Does the token resembles an email? Returns a boolean.\n",
    "`likeURL    | Does the token resembles a URL? Returns a boolean.\n",
    "`likeNumber | Does the token resembles a number? Returns a boolean.\n",
    "`keywords   | The significance of each term, returns a list of dictionaries.\n",
    "`starts     | Index that a token starts at, returns a long.\n",
    "\n",
    "An example of how to create a parsed table is shown below."
   ]
  },
  {
   "cell_type": "code",
   "execution_count": 4,
   "metadata": {
    "scrolled": true
   },
   "outputs": [
    {
     "name": "stdout",
     "output_type": "stream",
     "text": [
      "CHAPTER 1\n",
      "\n",
      "  Loomings\n",
      "\n",
      "\n",
      "\n",
      "Call me Ishmael.  Some years ago--never mind how long precisely-- having little or no money in my purse, and nothing particular to interest me on shore, I thought I would sail about a little and see the watery part of the world.  It is a way I have of driving off the spleen and regulating the circulation. Whenever I find myself growing grim about the mouth; whenever it is a damp, drizzly November in my soul; whenever I find myself involuntarily pausing before coffin warehouses, and bringing up the rear of every funeral I meet; and especially whenever my hypos get such an upper hand of me, that it requires a strong moral principle to prevent me from deliberately stepping into the street, and methodically knocking people's hats off--then, I account it high time to get to sea as soon as I can.  This is my substitute for pistol and ball. With a philosophical flourish Cato throws himself upon his sword; I quietly take to the ship.  There is nothing surprising in this. If they but knew it, almost all men in their degree, some time or other, cherish very nearly the same feelings towards the ocean with me.\n",
      "\n",
      "There now is your insular city of the Manhattoes, belted round by wharves as Indian isles by coral reefs--commerce surrounds it with her surf. Right and left, the streets take you waterward.  Its extreme downtown is the battery, where that noble mole is washed by waves, and cooled by breezes, which a few hours previous were out of sight of land. Look at the crowds of water-gazers there.\n",
      "\n",
      "Circumambulate the city of a dreamy Sabbath afternoon.  Go from Corlears Hook to Coenties Slip, and from thence, by Whitehall, northward. What do you see?--Posted like silent sentinels all around the town, stand thousands upon thousands of mortal men fixed in ocean reveries. Some leaning against the spiles; some seated upon the pier-heads; some looking over the bulwarks glasses! of ships from China; some high aloft in the rigging, as if striving to get a still better seaward peep. But these are all landsmen; of week days pent up in lath and plaster-- tied to counters, nailed to benches, clinched to desks. How then is this?  Are the green fields gone?  What do they here?\n",
      "\n",
      "But look! here come more crowds, pacing straight for the water, and seemingly bound for a dive.  Strange!  Nothing will content them but the extremest limit of the land; loitering under the shady lee of yonder warehouses will not suffice.  No. They must get just as nigh the water as they possibly can without falling in. And there they stand--miles of them--leagues.  Inlanders all, they come from lanes and alleys, streets and avenues,-- north, east, south, and west.  Yet here they all unite. Tell me, does the magnetic virtue of the needles of the compasses of all those ships attract them thither?\n",
      "\n",
      "Once more.  Say you are in the country; in some high land of lakes. Take almost any path you please, and ten to one it carries you down in a dale, and leaves you there by a pool in the stream. There is magic in it.  Let the most absent-minded of men be plunged in his deepest reveries--stand that man on his legs, set his feet a-going, and he will infallibly lead you to water, if water there be in all that region.  Should you ever be athirst in the great American desert, try this experiment, if your caravan happen to be supplied with a metaphysical professor. Yes, as every one knows, meditation and water are wedded for ever.\n",
      "\n",
      "But here is an artist.  He desires to paint you the dreamiest, shadiest, quietest, most enchanting bit of romantic landscape in all the valley of the Saco.  What is the chief element he employs? There stand his trees, each with a hollow trunk, as if a hermit and a crucifix were within; and here sleeps his meadow, and there sleep his cattle; and up from yonder cottage goes a sleepy smoke. Deep into distant woodlands winds a mazy way, reaching to overlapping spurs of mountains bathed in their hill-side blue.  But though the picture lies thus tranced, and though this pine-tree shakes down its sighs like leaves upon this shepherd's head, yet all were vain, unless the shepherd's eye were fixed upon the magic stream before him. Go visit the Prairies in June, when for scores on scores of miles you wade knee-deep among Tiger-lilies--what is the one charm wanting?-- Water there is not a drop of water there!  Were Niagara but a cataract of sand, would you travel your thousand miles to see it? Why did the poor poet of Tennessee, upon suddenly receiving two handfuls of silver, deliberate whether to buy him a coat, which he sadly needed, or invest his money in a pedestrian trip to Rockaway Beach?  Why is almost every robust healthy boy with a robust healthy soul in him, at some time or other crazy to go to sea?  Why upon your first voyage as a passenger, did you yourself feel such a mystical vibration, when first told that you and your ship were now out of sight of land? Why did the old Persians hold the sea holy?  Why did the Greeks give it a separate deity, and own brother of Jove?  Surely all this is not without meaning.  And still deeper the meaning of that story of Narcissus, who because he could not grasp the tormenting, mild image he saw in the fountain, plunged into it and was drowned. But that same image, we ourselves see in all rivers and oceans. It is the image of the ungraspable phantom of life; and this is the key to it all.\n",
      "\n",
      "Now, when I say that I am in the habit of going to sea whenever I begin to grow hazy about the eyes, and begin to be over conscious of my lungs, I do not mean to have it inferred that I ever go to sea as a passenger. For to go as a passenger you must needs have a purse, and a purse is but a rag unless you have something in it.  Besides, passengers get sea-sick-- grow quarrelsome--don't sleep of nights--do not enjoy themselves much, as a general thing;--no, I never go as a passenger; nor, though I am something of a salt, do I ever go to sea as a Commodore, or a Captain, or a Cook.  I abandon the glory and distinction of such offices to those who like them.  For my part, I abominate all honorable respectable toils, trials, and tribulations of every kind whatsoever. It is quite as much as I can do to take care of myself, without taking care of ships, barques, brigs, schooners, and what not.  And as for going as cook,--though I confess there is considerable glory in that, a cook being a sort of officer on ship-board--yet, somehow, I never fancied broiling fowls;--though once broiled, judiciously buttered, and judgmatically salted and peppered, there is no one who will speak more respectfully, not to say reverentially, of a broiled fowl than I will. It is out of the idolatrous dotings of the old Egyptians upon broiled ibis and roasted river horse, that you see the mummies of those creatures in their huge bakehouses the pyramids.\n",
      "\n",
      "No, when I go to sea, I go as a simple sailor, right before the mast, plumb down into the fore-castle, aloft there to the royal mast-head. True, they rather order me about some, and make me jump from spar to spar, like a grasshopper in a May meadow. And at first, this sort of thing is unpleasant enough. It touches one's sense of honor, particularly if you come of an old established family in the land, the Van Rensselaers, or Randolphs, or Hardicanutes.  And more than all, if just previous to putting your hand into the tar-pot, you have been lording it as a country schoolmaster, making the tallest boys stand in awe of you.  The transition is a keen one, I assure you, from a schoolmaster to a sailor, and requires a strong decoction of Seneca and the Stoics to enable you to grin and bear it. But even this wears off in time.\n",
      "\n",
      "What of it, if some old hunks of a sea-captain orders me to get a broom and sweep down the decks?  What does that indignity amount to, weighed, I mean, in the scales of the New Testament?  Do you think the archangel Gabriel thinks anything the less of me, because I promptly and respectfully obey that old hunks in that particular instance? Who ain't a slave?  Tell me that.  Well, then, however the old sea-captains may order me about--however they may thump and punch me about, I have the satisfaction of knowing that it is all right; that everybody else is one way or other served in much the same way-- either in a physical or metaphysical point of view, that is; and so the universal thump is passed round, and all hands should rub each other's shoulder-blades, and be content.\n",
      "\n",
      "Again, I always go to sea as a sailor, because they make a point of paying me for my trouble, whereas they never pay passengers a single penny that I ever heard of. On the contrary, passengers themselves must pay.  And there is all the difference in the world between paying and being paid. The act of paying is perhaps the most uncomfortable infliction that the two orchard thieves entailed upon us.  But being paid,-- what will compare with it?  The urbane activity with which a man receives money is really marvellous, considering that we so earnestly believe money to be the root of all earthly ills, and that on no account can a monied man enter heaven. Ah! how cheerfully we consign ourselves to perdition!\n",
      "\n",
      "Finally, I always go to sea as a sailor, because of the wholesome exercise and pure air of the fore-castle deck. For as in this world, head winds are far more prevalent than winds from astern (that is, if you never violate the Pythagorean maxim), so for the most part the Commodore on the quarter-deck gets his atmosphere at second hand from the sailors on the forecastle. He thinks he breathes it first; but not so.  In much the same way do the commonalty lead their leaders in many other things, at the same time that the leaders little suspect it. But wherefore it was that after having repeatedly smelt the sea as a merchant sailor, I should now take it into my head to go on a whaling voyage; this the invisible police officer of the Fates, who has the constant surveillance of me, and secretly dogs me, and influences me in some unaccountable way-- he can better answer than any one else.  And, doubtless, my going on this whaling voyage, formed part of the grand programme of Providence that was drawn up a long time ago. It came in as a sort of brief interlude and solo between more extensive performances.  I take it that this part of the bill must have run something like this:\n",
      "\n",
      "\n",
      "  \"Grand Contested Election for the Presidency of the United States.                  \"WHALING VOYAGE BY ONE ISHMAEL.\"                  \"BLOODY BATTLE IN AFFGHANISTAN.\"\n",
      "\n",
      "\n",
      "Though I cannot tell why it was exactly that those stage managers, the Fates, put me down for this shabby part of a whaling voyage, when others were set down for magnificent parts in high tragedies, and short and easy parts in genteel comedies, and jolly parts in farces-- though I cannot tell why this was exactly; yet, now that I recall all the circumstances, I think I can see a little into the springs and motives which being cunningly presented to me under various disguises, induced me to set about performing the part I did, besides cajoling me into the delusion that it was a choice resulting from my own unbiased freewill and discriminating judgment.\n",
      "\n",
      "Chief among these motives was the overwhelming idea of the great whale himself.  Such a portentous and mysterious monster roused all my curiosity.  Then the wild and distant seas where he rolled his island bulk; the undeliverable, nameless perils of the whale; these, with all the attending marvels of a thousand Patagonian sights and sounds, helped to sway me to my wish. With other men, perhaps, such things would not have been inducements; but as for me, I am tormented with an everlasting itch for things remote. I love to sail forbidden seas, and land on barbarous coasts. Not ignoring what is good, I am quick to perceive a horror, and could still be social with it--would they let me--since it is but well to be on friendly terms with all the inmates of the place one lodges in.\n",
      "\n",
      "By reason of these things, then, the whaling voyage was welcome; the great flood-gates of the wonder-world swung open, and in the wild conceits that swayed me to my purpose, two and two there floated into my inmost soul, endless processions of the whale, and, mid most of them all, one grand hooded phantom, like a snow hill in the air.\n",
      "\n",
      "\n",
      "\n",
      "\n"
     ]
    }
   ],
   "source": [
    "myparser:.nlp.newParser[`en;`text`tokens`lemmas`pennPOS`isStop`sentChars`starts`sentIndices`keywords] \n",
    "corpus:myparser mobyDick\n",
    "-1 corpus[0]`text;"
   ]
  },
  {
   "cell_type": "markdown",
   "metadata": {},
   "source": [
    "### Exploratory analysis\n",
    "\n",
    "We want to find all proper nouns in the first chapter using `.nlp.findPOSRuns` which finds runs of consecutive tokens whose part of speech is in the set passed in. We only want to take the first value of each pair in order to omit the token's position."
   ]
  },
  {
   "cell_type": "code",
   "execution_count": 5,
   "metadata": {},
   "outputs": [
    {
     "data": {
      "text/plain": [
       "`loomings`ishmael`november`cato`manhattoes`circumambulate`sabbath`go`corlears..\n"
      ]
     },
     "execution_count": 5,
     "metadata": {},
     "output_type": "execute_result"
    }
   ],
   "source": [
    ".nlp.findPOSRuns[`pennPOS;`NNP`NNPS;corpus 0][;0]"
   ]
  },
  {
   "cell_type": "markdown",
   "metadata": {},
   "source": [
    "### Feature vectors\n",
    "\n",
    "Feature vectors are dictionaries of terms and their associated weights. The values associated with each term in a feature vector are how significant that term is as a descriptor of the entity. The significance of the word is calculated by comparing the frequency of the word in that document compared to the rest of the corpus.\n",
    "\n",
    "As this is a book, we treat this dataset as a single document other than a collection of documents, we use the `.nlp.keywordsContinuous` function to find the most significant words."
   ]
  },
  {
   "cell_type": "code",
   "execution_count": 6,
   "metadata": {},
   "outputs": [
    {
     "name": "stdout",
     "output_type": "stream",
     "text": [
      "ahab     | 65.27952\n",
      "peleg    | 52.39277\n",
      "bildad   | 47.02685\n",
      "whale    | 42.43906\n",
      "stubb    | 37.84592\n",
      "queequeg | 35.50176\n",
      "steelkilt| 33.9507\n",
      "pip      | 32.92842\n",
      "thou     | 32.11488\n",
      "starbuck | 31.86297\n"
     ]
    }
   ],
   "source": [
    "show 10#keywords:.nlp.keywordsContinuous corpus"
   ]
  },
  {
   "cell_type": "markdown",
   "metadata": {},
   "source": [
    "We can see the terms that occur the most are the names of the three captians on a boat and _\"whale\"_.\n",
    "\n",
    "Below we plot the occurrences per chapter of the top 10 keywords in Moby Dick. This reveals a discontinuity from chapters 32 to 45, which are an aside discussing whale biology."
   ]
  },
  {
   "cell_type": "code",
   "execution_count": 7,
   "metadata": {},
   "outputs": [
    {
     "name": "stdout",
     "output_type": "stream",
     "text": [
      "term chapter occurences\n",
      "-----------------------\n",
      "ahab 0       0         \n",
      "ahab 1       0         \n",
      "ahab 2       0         \n",
      "ahab 3       0         \n",
      "ahab 4       0         \n"
     ]
    }
   ],
   "source": [
    "/ create a table with average occurence of top 10 keywords in each chapter\n",
    "kwcount:{([]term:x;chapter:til count corpus;occurences:5 mavg sum each x=corpus`tokens)}\n",
    "show 5#tab:raze kwcount each key 10#keywords"
   ]
  },
  {
   "cell_type": "code",
   "execution_count": 8,
   "metadata": {},
   "outputs": [
    {
     "data": {
      "image/png": "[encoded data removed]",
      "text/plain": [
       "<matplotlib.figure.Figure at 0x7f120a066438>"
      ]
     },
     "metadata": {},
     "output_type": "display_data"
    }
   ],
   "source": [
    "/ plot occurence of top terms per chapter\n",
    "plt[`:figure][`figsize pykw 20 10];\n",
    "{a:exec chapter from tab where term=x;\n",
    " b:exec occurences from tab where term=x;\n",
    " plt[`:plot][a;b];\n",
    " }each key 10#keywords; \n",
    "\n",
    "plt[`:title]\"The occurences per chapter of the top 10 keywords\";\n",
    "plt[`:ylabel]\"Occurences\";\n",
    "plt[`:xlabel]\"Chapter\";\n",
    "plt[`:legend][key 10#keywords;`loc pykw\"upper left\"];\n",
    "plt[`:show][];"
   ]
  },
  {
   "cell_type": "markdown",
   "metadata": {},
   "source": [
    "### Calculate feature vectors for words\n",
    "\n",
    "The feature vector for a word can be calculated as a collection of how well other words predict the given keyword. The weight given to these words is a function of how much higher the actual co-occurrence rate is from the expected co-occurrence rate the terms would have if they were randomly distributed.\n",
    "\n",
    "`.nlp.findRelatedTerms` finds terms that have occured in the same sentence as the queried word. It returns a dictionary of each related term and their z-score in a descending order. A large z-score indicates that the term occured more frequently than if the term was randomly distributed in the corpus."
   ]
  },
  {
   "cell_type": "code",
   "execution_count": 9,
   "metadata": {},
   "outputs": [
    {
     "data": {
      "text/plain": [
       "peleg | 1.653247\n",
       "bildad| 1.326868\n",
       "ahab  | 1.232073\n",
       "ship  | 1.158671\n",
       "cabin | 0.9743517\n"
      ]
     },
     "execution_count": 9,
     "metadata": {},
     "output_type": "execute_result"
    }
   ],
   "source": [
    "/ find words relating to captain\n",
    "5#.nlp.findRelatedTerms[corpus;`captain]"
   ]
  },
  {
   "cell_type": "markdown",
   "metadata": {},
   "source": [
    "### Find related phrases\n",
    "\n",
    "Phrases can be found by looking for runs of words with an above average significance to the query term. "
   ]
  },
  {
   "cell_type": "code",
   "execution_count": 10,
   "metadata": {},
   "outputs": [
    {
     "data": {
      "text/plain": [
       "`captain`ahab      | 50\n",
       "`captain`peleg     | 23\n",
       "`captain`bildad    | 11\n",
       "`stranger`captain  | 6\n",
       "`captain`sleet     | 5\n",
       "`sea`captain       | 3\n",
       "`captain`pollard   | 3\n",
       "`whaling`captain   | 2\n",
       "`captain`ahab`stood| 2\n",
       "`captain`stood     | 2\n",
       "`captain`d'wolf    | 2\n",
       "`captain`mayhew    | 2\n",
       "`way`captain       | 2\n",
       "`captain`boomer    | 2\n"
      ]
     },
     "execution_count": 10,
     "metadata": {},
     "output_type": "execute_result"
    }
   ],
   "source": [
    ".nlp.extractPhrases[corpus;`captain]"
   ]
  },
  {
   "cell_type": "markdown",
   "metadata": {},
   "source": [
    "We see that _\"captain ahab\"_ is the phrase releated to captain that occurs the most in this corpus."
   ]
  },
  {
   "cell_type": "markdown",
   "metadata": {},
   "source": [
    "---"
   ]
  },
  {
   "cell_type": "markdown",
   "metadata": {},
   "source": [
    "<a id='Enron'></a>\n",
    "# The Enron Email Dataset "
   ]
  },
  {
   "cell_type": "markdown",
   "metadata": {},
   "source": [
    "The [Enron Email Dataset](https://www.cs.cmu.edu/~enron/) is one of the few, if not the only, large publicly available dataset of corporate emails. Made available after the Enron trial, it includes the emails of many employees, including c-suite individuals such as former Enron CEOs Jeffrey Skilling and Ken Lay, whose emails will be investigated in this paper."
   ]
  },
  {
   "cell_type": "markdown",
   "metadata": {},
   "source": [
    "### Load data\n",
    "\n",
    "Below we create functions to read in the email data. It should be noted that some dates, such as `1979.12.31`, are invalid and will show as `0nd`."
   ]
  },
  {
   "cell_type": "code",
   "execution_count": 11,
   "metadata": {},
   "outputs": [],
   "source": [
    "parseEnronEmail:{[email]\n",
    " tag:findtag email;\n",
    " k:`date`time`subject`from`to`cc`bcc`text;\n",
    " v:(rmdate ff .nlp.findDates dt;ff .nlp.findTimes dt:tag\"Date\"),\n",
    "   (tag each(\"Subject\";\"From\";\"To\";\"Cc\";\"Bcc\")),enlist(2+first email ss\"\\n\\n\") _ email;\n",
    " k!v}\n",
    "\n",
    "findtag:{\n",
    " newln:where x=\"\\n\";\n",
    " tstart:count[y]+first x ss y:\"\\n\",y,\":\";\n",
    " $[null tstart;\"\";[tend:first newln where tstart < newln;trim tstart _ tend#x]]}\n",
    "rmdate:{$[x~();0nd;x<1980.01.01;0nd;x]}\n",
    "ff:{first first x}"
   ]
  },
  {
   "cell_type": "markdown",
   "metadata": {},
   "source": [
    "The below function will import all files in directory and remove tokens that affect tasks such as comparing documents and finding keywords."
   ]
  },
  {
   "cell_type": "code",
   "execution_count": 12,
   "metadata": {},
   "outputs": [],
   "source": [
    "loadEnronEmails:{[path]\n",
    " emails:parseEnronEmail each distinct .nlp.loadTextFromDir[path]`text;\n",
    " char:\"\\n((To|Subject|From|Sent):|=09|=\\\\?|ANSI| ---)[^\\n]*|\\\\[IMAGE\\\\]\";\n",
    " badtokens:.nlp.regex.compile[char;1b];\n",
    " emails[`text]:(emails[`subject],\\:\"\\n\\n\"),'replaceAll[badtokens;\"\";]each emails`text;\n",
    " emails}\n",
    "\n",
    "replaceAll:{x[`:sub;<][y;z]}"
   ]
  },
  {
   "cell_type": "code",
   "execution_count": 13,
   "metadata": {},
   "outputs": [],
   "source": [
    "/ create a new parser\n",
    "myparser:.nlp.newParser[`en;`tokens`isStop`text`sentChars`sentIndices`keywords]"
   ]
  },
  {
   "cell_type": "code",
   "execution_count": 14,
   "metadata": {},
   "outputs": [
    {
     "name": "stdout",
     "output_type": "stream",
     "text": [
      "Loaded 2603 emails\n"
     ]
    },
    {
     "data": {
      "text/plain": [
       "87055\n"
      ]
     },
     "execution_count": 14,
     "metadata": {},
     "output_type": "execute_result"
    }
   ],
   "source": [
    "/ load and parse data\n",
    "jeffemails:distinct loadEnronEmails\"../data/enron/skilling-j\"\n",
    "-1 \"Loaded \",string[count jeffemails],\" emails\";\n",
    "\\t jeffcorpus:myparser jeffemails`text\n",
    "\n",
    "/ join the original datasets and the corpus\n",
    "jefftable:jeffcorpus,'jeffemails"
   ]
  },
  {
   "cell_type": "code",
   "execution_count": 15,
   "metadata": {},
   "outputs": [
    {
     "name": "stdout",
     "output_type": "stream",
     "text": [
      "Loaded 3651 emails\n"
     ]
    },
    {
     "data": {
      "text/plain": [
       "118979\n"
      ]
     },
     "execution_count": 15,
     "metadata": {},
     "output_type": "execute_result"
    }
   ],
   "source": [
    "/ load and parse data\n",
    "layemails:distinct loadEnronEmails\"../data/enron/lay-k\"\n",
    "-1 \"Loaded \",string[count layemails],\" emails\";\n",
    "\\t laycorpus:myparser layemails`text\n",
    "\n",
    "/ join the original datasets and the corpus\n",
    "laytable:laycorpus,'layemails"
   ]
  },
  {
   "cell_type": "markdown",
   "metadata": {},
   "source": [
    "### Comparing corpora\n",
    "\n",
    "Jeff Skilling was a member of the Beta Theta Pi fraternity at Southern Methodist University (SMU). If we want to find secret fraternity code words used by the Betas, we can compare his fraternity emails (those containing “SMU” or “Betas”) to his other emails using `.nlp.compareCorpora`.\n",
    "\n",
    "**NB**: `.nlp.compareCorpora` is based on the paper [_\"Comparing Corpora Using Frequency Profiling\"_](http://ucrel.lancs.ac.uk/people/paul/publications/rg_acl2000.pdf). Compares the number of occurences of each term between the two corpora. Gives two dictionaries of each terms affinity to each corpus."
   ]
  },
  {
   "cell_type": "code",
   "execution_count": 16,
   "metadata": {},
   "outputs": [
    {
     "data": {
      "text/plain": [
       "`beta`homecoming`betas`smu`yahoo`groups`tent`reunion`forget`-kai-`years`crowd`incredible`connected`biggest`ago`http://docs.yahoo.com/info/terms/`pick`subject`stay`left`far`consider`use`right\n"
      ]
     },
     "execution_count": 16,
     "metadata": {},
     "output_type": "execute_result"
    },
    {
     "data": {
      "text/plain": [
       "`enron`jeff`business`=`information`$`market`services`energy`management`713`company`1`questions`power`technology`companies`global`following`center`industry`meeting`trading`corp`june\n"
      ]
     },
     "execution_count": 16,
     "metadata": {},
     "output_type": "execute_result"
    }
   ],
   "source": [
    "\\c 30 200\n",
    "fraternity:jeffcorpus i:where(jeffcorpus[`text]like\"*Betas*\")|jeffcorpus[`text]like\"*SMU*\"\n",
    "remaining :jeffcorpus til[count jeffcorpus]except i\n",
    "summaries :key each 25#/:.nlp.compareCorpora[fraternity;remaining]\n",
    "\n",
    "/ summary of the fraternity corpus\n",
    "summaries 0\n",
    "\n",
    "/summary of the remaining corpus\n",
    "summaries 1"
   ]
  },
  {
   "cell_type": "markdown",
   "metadata": {},
   "source": [
    "Above we sort terms by their affinity towards the fraternity corpus. The first unusual word is the 10th most polarized word, _“kai”_, a greeting and sign-off used in fraternity emails.\n",
    "\n",
    "Also appearing near the top of this list are references to the fraternity’s _“Eye of Wooglin”_ ritual."
   ]
  },
  {
   "cell_type": "markdown",
   "metadata": {},
   "source": [
    "### Calculating feature vectors\n",
    "\n",
    "The value associated with each term in a feature vector is the significance of that term as a descriptor of the entity. For documents, this can be calculated by comparing the frequency of words in that document to the frequency of words in the rest of the corpus.\n",
    "\n",
    "The intuition is that any term which exhibits a uniform distribution throughout the corpus will be insignificant, whereas those which appear in clusters will be more significant. The frequency of each term also contributes to the significance. Thus, any term which is both frequent and clustered will be more significant. Describing documents this way is a very fast operation and, when run on e-mail length documents, has a throughput of tens of thousands of documents per second.\n",
    "\n",
    "The most significant keywords in a document, provided in the feature vector, help to distingush the document from the rest of the corpus and serve as a terse summary of the document. Below is an example which shows the most significant terms in the feature vector for one of Jeff Skilling’s emails, describing an advertiment for _\"Ready2Go\"_."
   ]
  },
  {
   "cell_type": "code",
   "execution_count": 17,
   "metadata": {},
   "outputs": [],
   "source": [
    "ready2go:first where jeffcorpus[`text]like\"Ready2Go*\""
   ]
  },
  {
   "cell_type": "code",
   "execution_count": 18,
   "metadata": {},
   "outputs": [
    {
     "name": "stdout",
     "output_type": "stream",
     "text": [
      "Ready2Go\n",
      "\n",
      "Are you Ready2Go ?\n",
      "\n",
      "Have you ever experienced problems accessing the network remotely when traveling on business or when trying to work from home on your Enron laptop?  Would you like someone to test and customize the dial-up access on your laptop before you head out of town on your next trip? \n",
      "\n",
      "We have identified a need and are now supplying a new service for Corp and EBS employees and it's called Ready2Go !\n",
      "\n",
      "This new service has been established to test, modify, and update the dial-up software on your laptop.\n",
      "\n",
      "How it works:\n",
      "\n",
      "A calendar has been created on ITCentral at <http://itcentral.enron.com/Data/Services/Ready2Go>\n",
      "\n",
      "Go to the site and schedule a time that is convenient for you. Then, bring your laptop to our testing site, (either at 3AC105 or EB2268D).  We will examine your system, update your software (if needed) and even customize it for the next location you will be traveling to.  We'll also provide a training session in accessing the network remotely with your laptop.\n",
      "\n",
      "If you are interested in participating, simply access the web site and schedule an appointment.\n",
      "\n",
      "Thank you for your time.\n",
      "The Ready2Go Team\n"
     ]
    }
   ],
   "source": [
    "/ email from the dataset\n",
    "-1 jeffcorpus[ready2go]`text;"
   ]
  },
  {
   "cell_type": "code",
   "execution_count": 19,
   "metadata": {},
   "outputs": [
    {
     "data": {
      "text/plain": [
       "ready2go | 0.4324107\n",
       "laptop   | 0.3841141\n",
       "remotely | 0.1769508\n",
       "customize| 0.1654873\n",
       "dial     | 0.1349321\n"
      ]
     },
     "execution_count": 19,
     "metadata": {},
     "output_type": "execute_result"
    }
   ],
   "source": [
    "/ show most frequently used words\n",
    "5#desc .nlp.TFIDF[jeffcorpus]1637"
   ]
  },
  {
   "cell_type": "markdown",
   "metadata": {},
   "source": [
    "### Searching \n",
    "\n",
    "Searching can be done using words, documents or collections of documents. To search for items similar to a given document, all documents can be represented as feature vectors using TF-IDF. The cosine similarity of the query document can then be compared to those in the dataset to find the most similar documents, with the cosine similarity giving a relevance score.\n",
    "\n",
    "The cosine similarity of two vectors is the dot product of two vectors over the product of their magnitudes. It is a standard distance metric for comparing documents. \n",
    "\n",
    "Feature vectors are extremely composable. To search by a collection of documents, just sum the feature vectors for all the elements in the query to get a single vector you can use for searching."
   ]
  },
  {
   "cell_type": "code",
   "execution_count": 20,
   "metadata": {},
   "outputs": [
    {
     "name": "stdout",
     "output_type": "stream",
     "text": [
      "Email location: 309\n",
      "\n",
      "Fire Chief Committee\n",
      "\n",
      "Dear Jeff:\n",
      "\n",
      "    Thank you again for extending me an invitation to be on your committee to\n",
      "select the new Houston Fire Chief.  I look forward with much enthusiasm and\n",
      "excitement to working with you and the committee members on this very\n",
      "important project.\n",
      "\n",
      "    I enjoyed our visit at the Doubletree immensely. It was great walking\n",
      "down memory lane and recalling our days in Cambridge. We probably passed each\n",
      "other at Harvard Square at some point during our time there.  As I said, I am\n",
      "a great admirer of you and ENRON. The innovation, creativity and unique\n",
      "(though soon to be widely copied) business plan make ENRON one of Houston's\n",
      "(and the nation's, maybe also California's in the near future) great assets.\n",
      "\n",
      "     Since the subject came up in our conversation, I will add a short\n",
      "personal note. After reviewing several potential transactions this week, it\n",
      "is quite possible that my partners and I will be entering into a \"business\n",
      "defining\" transaction in the next two months. Since I am a lousy golfer, I\n",
      "will be exploring new challenges.\n",
      "\n",
      "    Thursday, at the fire station, should be fun. I can see you and the mayor\n",
      "in one of the hook and ladder trucks for the photo op.\n",
      "\n",
      "Take care,\n",
      "\n",
      "Roel \n"
     ]
    }
   ],
   "source": [
    "fchief:where jeffcorpus[`text]like\"Fire Chief Committee*\"\n",
    "-1\"Email location: \",(raze string fchief),\"\\n\";\n",
    "queryemail:first jeffcorpus fchief\n",
    "-1 queryemail`text;"
   ]
  },
  {
   "cell_type": "code",
   "execution_count": 21,
   "metadata": {},
   "outputs": [
    {
     "name": "stdout",
     "output_type": "stream",
     "text": [
      "Email location: 306\n",
      "\n",
      "Select Comm AGENDA - Jan 25-Febr 1\n",
      "\n",
      "Houston Fire Chief Selection Committee Members: Jeff Skilling - Chairperson, \n",
      "Troy Blakeney, Gerald Smith, Roel Campos and James Duke.\n",
      "\n",
      "Congratulations selection committee members! We have a very important and \n",
      "exciting task ahead of us. \n",
      "\n",
      "On the agenda for the next week are two important items - (1) the Mayor's \n",
      "February 1 news conference announcing the Houston Fire Chief selection \n",
      "committee and its members; and (2) coordination of an action plan, which we \n",
      "should work out prior to the news conference.\n",
      "\n",
      "News Conference specifics:\n",
      "speakers - Mayor Brown and Jeff Skilling\n",
      "in attendance - all selection committee members\n",
      "location - Fire Station #6, 3402 Washington Ave.\n",
      "date - Thursday, February 1, 2001\n",
      "time - 2pm\n",
      "duration - approximately 30 minutes\n",
      "\n",
      "I'd like to emphasize that it would be ideal if all selection committee \n",
      "members were present at the news conference. \n",
      "\n",
      "I will need bios on each committee member emailed to me by close of business \n",
      "Monday, January 29, 2001. These bios will be attached to a press release the \n",
      "Mayor's Office is compiling.\n",
      "\n",
      "Coordination of action plan:\n",
      "Since we have only 1 week between now and the news conference, Jeff has \n",
      "proposed that he take a stab at putting together an initial draft. He will \n",
      "then email to all committee members for comments/suggestions and make changes \n",
      "accordingly. Hope this works for everyone - if not, give me a call \n",
      "(713)-345-4840.\n",
      "\n",
      "Thanks,\n",
      "Lisa\n",
      "\n"
     ]
    }
   ],
   "source": [
    "kw:first 1_idesc .nlp.compareDocs[queryemail`keywords]each jeffcorpus`keywords\n",
    "-1\"Email location: \",string[kw],\"\\n\";\n",
    "-1 @[;`text]mostsimilar:jeffcorpus kw;"
   ]
  },
  {
   "cell_type": "markdown",
   "metadata": {},
   "source": [
    "### Comparing feature vectors \n",
    "\n",
    "When documents are marked as similar, either by a clustering algorithm or when searching for similarities between documents, it may not always be obvious why a match occured or why the specific relevance score was given.\n",
    "\n",
    "For any pair of documents or centroids, the list of features can score can be sorted by how much they contribute to the similarity. In the below example, we compares two of Jeff Skilling’s emails which share a common subject - the selection of the next Houston fire chief.\n",
    "\n",
    "`.nlp.explainSimilarity` calculates how much each shared term contributre to the cosine similarity and sorts it in descending order. "
   ]
  },
  {
   "cell_type": "code",
   "execution_count": 22,
   "metadata": {},
   "outputs": [
    {
     "data": {
      "text/plain": [
       "committee| 0.3098682\n",
       "fire     | 0.2334334\n",
       "mayor    | 0.08585972\n",
       "members  | 0.07098549\n",
       "chief    | 0.05838622\n",
       "roel     | 0.04414356\n",
       "station  | 0.03100559\n",
       "houston  | 0.0275542\n",
       "important| 0.02392039\n",
       "plan     | 0.02274561\n"
      ]
     },
     "execution_count": 22,
     "metadata": {},
     "output_type": "execute_result"
    }
   ],
   "source": [
    "/ returns what terms contribute to the similarity\n",
    "10#.nlp.explainSimilarity . jeffcorpus[`keywords]306 309"
   ]
  },
  {
   "cell_type": "markdown",
   "metadata": {},
   "source": [
    "### Finding outliers\n",
    "\n",
    "The centroid of a collection of documents is the average of their feature vectors. Documents close to the centroid are representative, while those far away are outliers. \n",
    "\n",
    "Given a collection of documents, finding outliers can be a quick way to find interesting documents, those that have been mis-clustered or are not relevant to the collection.\n",
    "\t\n",
    "Within the collection of Ken Lay's emails, 1124 contain a petition. Nearly all of these use default text, only changing the name, address and email address each time. To find petitions which have been modified, we can sort by distance from the centroid. This will highlight emails where the default text has been completely replaced, added to or has had portions removed, with the emails most heavily modified appearing first."
   ]
  },
  {
   "cell_type": "code",
   "execution_count": 23,
   "metadata": {},
   "outputs": [
    {
     "name": "stdout",
     "output_type": "stream",
     "text": [
      "54 752 861 232 272 15 587 88 11 277 905 235 925 163 964 710 1062 1028 5 540 970 258 946 31 361 81..\n"
     ]
    }
   ],
   "source": [
    "\\c 30 100\n",
    "petition:laycorpus where laytable[`subject]like\"Demand Ken*\"\n",
    "centroid:sum petition`keywords\n",
    "show asckw:iasc .nlp.i.compareDocToCentroid[centroid]each petition`keywords"
   ]
  },
  {
   "cell_type": "markdown",
   "metadata": {},
   "source": [
    "Sorting the petitions by distance from centroid reveals many angry and threatening emails from the Enron stockholders following the scandal which are outliers due to their colourful language, otherwise absent from the corpus. Below we show the first of these outliers, with sentences such as _“The world, and possibly the afterworld, demand your repentence”_ and _\"I hope your ill-gotten gains do not serve you in any good way\"_."
   ]
  },
  {
   "cell_type": "code",
   "execution_count": 24,
   "metadata": {},
   "outputs": [
    {
     "name": "stdout",
     "output_type": "stream",
     "text": [
      "\n",
      "Demand Ken Lay Donate Proceeds from Enron Stock Sales\n",
      "\n",
      "Gordon Wiltsie\n",
      "Bozeman, MT\n",
      "gw@alpenimage.com\n",
      "\n",
      "To Mr. Ken Lay,\n",
      "\n",
      "In the interest of saving your own soul (not to mention the ability to sleep at night) I urge you to donate the millions of dollars you made from selling Enron stock to such funds as the Enron Employee Transition Fund.  I recommend that you encourage your fellow executives to do the same.  Whether you are religious or not, karma is a very real force in this universe.   God or no god, your actions will have consequences for both you and the nation for decades into the future. The world, and possibly the afterworld, demand your repentence.  Do you really want to go to Hell?\n",
      "\n",
      "If there is a shred of honor in your life, you will make amends for selling $101 million worth of Enron stock while aggressively urging the company's employees to keep buying it.  Please donate this money to the funds set up to help repair the lives of those Americans hurt by Enron's underhanded dealings.\n",
      "\n",
      "You're a smart man and you can still make other millions to fund your retirement.\n",
      "\n",
      "Sincerely,\n",
      "\n",
      "Gordon Wiltsie\n"
     ]
    }
   ],
   "source": [
    "-1\"\\n\",first@[;`text]outliers:petition asckw;"
   ]
  },
  {
   "cell_type": "markdown",
   "metadata": {},
   "source": [
    "### Analyzing emails from a range of specific dates  "
   ]
  },
  {
   "cell_type": "code",
   "execution_count": 25,
   "metadata": {},
   "outputs": [],
   "source": [
    "/ function to extract significant words from a range of dates\n",
    "summarizeWindow:{[d;w]\n",
    " target:select from d where date within w;\n",
    " history:select from d where not date within w;\n",
    " key first .nlp.compareCorpora[target;history]}"
   ]
  },
  {
   "cell_type": "code",
   "execution_count": 26,
   "metadata": {},
   "outputs": [
    {
     "data": {
      "text/plain": [
       "2000.04.26 2000.05.06| chuck           150/       closer    ms         chuck.paul@a-closer-look.c..\n",
       "2001.03.10 2001.03.13| california=01,s fms        prevented state=01,s solutions                 ..\n",
       "2001.02.24 2001.02.26| lisa            02/26/2001 interview candidates questions                 ..\n"
      ]
     },
     "execution_count": 26,
     "metadata": {},
     "output_type": "execute_result"
    }
   ],
   "source": [
    "k!summarizeWindow[jefftable]each k:(2000.04.26 2000.05.06;2001.03.10 2001.03.13;2001.02.24 2001.02.26)"
   ]
  },
  {
   "cell_type": "markdown",
   "metadata": {},
   "source": [
    "### Sentiment analysis\n",
    "\n",
    "Sentences can be scored for their negative, positive and neutral sentiment using a prebuilt model which looks for the degrees of positive and negative sentiment for English words and emoticons. The model also parse to account for negation, adverbs and other modifiers. \n",
    "\n",
    "* **Compound value**: the overall positive/negative sentiment.\n",
    "* **Positive value**: the positive sentiment.\n",
    "* **Negative value**: the negative sentiment.\n",
    "* **Neural value**: the neural sentiment - a function of the amount of input with no sentiment value. \n",
    "\n",
    "We will extract the sentences from each email and find the most positive and negative sentences."
   ]
  },
  {
   "cell_type": "code",
   "execution_count": 27,
   "metadata": {},
   "outputs": [
    {
     "data": {
      "text/plain": [
       "\"Perfectly suited for any  type of gift giving, it is an interesting w=\\nay to add natural beauty..\n",
       "\"He has \\nalways given His strength,  wisdom, guidance, peace, contentment, patience, \\nencourage..\n",
       "\"He has\\nalways given His strength, wisdom, guidance, peace, contentment, patience,\\nencouragemen..\n",
       "\"He has\\nalways given His strength, wisdom, guidance, peace, contentment, patience,\\nencouragemen..\n",
       "\"Request from Better Business Bureau\\n\\nDear Jeff:\\n\\nI would like to invite you to honor us as t..\n"
      ]
     },
     "execution_count": 27,
     "metadata": {},
     "output_type": "execute_result"
    },
    {
     "data": {
      "text/plain": [
       "\" The invasion, launched after a coup on the\\nisland and another particularly vicious spat of vio..\n",
       "\"\\nWhile we grieve sadly, our anger will demand immediate  U.S. retaliation to \\nclean out the te..\n",
       "\" She \\nadded the sales wrong on the cash register, she charged the wrong prices for \\nitems, she..\n",
       "\" She added the sales wrong on the cash register, she charged the wrong prices for items, she gav..\n",
       "\"10 - fu=\\nll story    Venezuela's CANTV poison pill pits Verizon against AES - Oct. 8=\\n- story ..\n"
      ]
     },
     "execution_count": 27,
     "metadata": {},
     "output_type": "execute_result"
    }
   ],
   "source": [
    "sentences:s where 200>count each s:raze .nlp.getSentences each jeffcorpus\n",
    "scores:.nlp.sentiment each sentences\n",
    "5#sentences idesc cs:scores`compound\n",
    "5#sentences iasc cs"
   ]
  },
  {
   "cell_type": "markdown",
   "metadata": {},
   "source": [
    "### Reading in MBOX files into kdb+/q\n",
    "\n",
    "MBOX files are the most common format for storing email messages on a hard drive. The NLP library has the capability to read in MBOX files and constructs a table of parsed emails, with columns:\n",
    "\n",
    "column   | content\n",
    "---------|------------------------------------------------------------------\n",
    "`sender | list of chars containing the name and email address of the sender\n",
    "`to |  list of chars containing the name and email address of the reciever/recievers\n",
    "`date| timestamp of the date\n",
    "`subject| list of chars containing the subject of the email\n",
    "`text| list of chars containing the text of the email\n",
    "`contentType|list of chars containing the content type of the email\n",
    "`payload| payload"
   ]
  },
  {
   "cell_type": "code",
   "execution_count": 28,
   "metadata": {},
   "outputs": [
    {
     "name": "stdout",
     "output_type": "stream",
     "text": [
      "sender                            to                           date                          subj..\n",
      "-------------------------------------------------------------------------------------------------..\n",
      "\"Anna Weitzman\" \"Weitzman@si.edu\" \"\" \"TDWG-Lit@lists.tdwg.org\" 2006.02.09D10:10:52.000000000 \"[Td..\n",
      "\"Anna Weitzman\" \"Weitzman@si.edu\" \"\" \"TDWG-Lit@lists.tdwg.org\" 2006.02.09D10:22:02.000000000 \"[Td..\n",
      "\"Anna Weitzman\" \"Weitzman@si.edu\" \"\" \"TDWG-Lit@lists.tdwg.org\" 2006.02.09D10:33:24.000000000 \"[Td..\n",
      "\"Anna Weitzman\" \"Weitzman@si.edu\" \"\" \"TDWG-Lit@lists.tdwg.org\" 2006.02.09D10:57:37.000000000 \"[Td..\n",
      "\"Anna Weitzman\" \"Weitzman@si.edu\" \"\" \"TDWG-Lit@lists.tdwg.org\" 2006.02.09D11:01:51.000000000 \"[Td..\n"
     ]
    }
   ],
   "source": [
    "show 5#mboxemails:.nlp.loadEmails\"../data/tdwg-lit.mbox\""
   ]
  },
  {
   "cell_type": "markdown",
   "metadata": {},
   "source": [
    "The following function returns a table of who emailed who and the number of times they emails each other."
   ]
  },
  {
   "cell_type": "code",
   "execution_count": 29,
   "metadata": {},
   "outputs": [
    {
     "data": {
      "text/plain": [
       "sender                   to                         volume\n",
       "----------------------------------------------------------\n",
       "Weitzman@si.edu          TDWG-Lit@lists.tdwg.org    12    \n",
       "agosti@amnh.org          tdwg-lit@lists.tdwg.org    6     \n",
       "G.Hagedorn@BBA.DE        TDWG-Lit@lists.tdwg.org    5     \n",
       "Chris.Freeland@mobot.org tdwg-lit@lists.tdwg.org    3     \n",
       "WEITZMAN@si.edu          Alex.Chapman@dec.wa.gov.au 3     \n"
      ]
     },
     "execution_count": 29,
     "metadata": {},
     "output_type": "execute_result"
    }
   ],
   "source": [
    "5#.nlp.email.getGraph mboxemails"
   ]
  },
  {
   "cell_type": "markdown",
   "metadata": {},
   "source": [
    "This table can then be used to plot a graph. The below example was rendered in Analyst for Kx, where node size represents email volume.\n",
    "\n",
    "<img src=\"../images/network.png\" />"
   ]
  },
  {
   "cell_type": "markdown",
   "metadata": {},
   "source": [
    "### Clustering\n",
    "\n",
    "When exploring a set of documents it can be very useful to cluster the data. This will show the major themes in a dataset and make it possible to focus in on relevant areas and filter out sections of the dataset that are not related to the analysis.\n",
    "\n",
    "Clusters can be summarized by their centroids, which are the sum of the feature vectors of all the documents they contain. Centroids are useful for giving a quick summary of the contents of a cluster."
   ]
  },
  {
   "cell_type": "markdown",
   "metadata": {},
   "source": [
    "### Cohesion\n",
    "\n",
    "As clustering a dataset may result in hundreds of clusters, it is helpful to be able to sort the results by quality. The cohesiveness is the mean sum of squares error, which aggregates the distance of each document from the centroid, and is a measure of how similar documents are within a cluster.\n",
    "\n",
    "If we sort by cohesiveness, we will first see the most compact clusters. Sorting by cluster size is also useful as this will show the larger themes within the dataset.\n",
    "\n",
    "The format function below takes a corpus and a list of clusters (as document indices) and gives the size, cohesion and keywords for each cluster."
   ]
  },
  {
   "cell_type": "code",
   "execution_count": 30,
   "metadata": {},
   "outputs": [],
   "source": [
    "format:{[corpus;clusters]\n",
    " summaries:docsum each corpus[`keywords]clusters;  / most relevant cluster descriptors\n",
    " summaries:select from summaries where size > 1;   / remove outliers\n",
    " summaries idesc summaries`cohesion}               / sort by cohesion\n",
    "\n",
    "docsum:{`size`cohesion`keywords!(count x;.nlp.cluster.MSE x;enlist key .nlp.i.takeTop[10]avg x)}"
   ]
  },
  {
   "cell_type": "markdown",
   "metadata": {},
   "source": [
    "### Summarize clustering\n",
    "\n",
    "Summarize clustering is a fast clustering algorithm that produces cohesive and reasonably sized clusters. It finds the n documents that best summaries the n most important keywords in the corpus, then clusters the remaining documents around these centroids. For Jeff Skilling's emails, this produces clusters for various re-occuring reports, such as the EnronOnline and ENE reports, as well as clusters for fraternity emails."
   ]
  },
  {
   "cell_type": "code",
   "execution_count": 31,
   "metadata": {},
   "outputs": [
    {
     "data": {
      "text/plain": [
       "size cohesion   keywords                                                                         ..\n",
       "-------------------------------------------------------------------------------------------------..\n",
       "85   0.4710604  notification memo violation erv report viewing published website available revisi..\n",
       "22   0.3877623  mpr attached hurricane dodson presentation project roel numbers hiring jernigan  ..\n",
       "104  0.3721482  beta homecoming years yahoo groups tent forget reunion betas crowd               ..\n",
       "88   0.3654246  enrononline summary executive picture metafile embedded daily reports report find..\n",
       "69   0.3627304  | message + error sender murdock erica information contain privileged            ..\n",
       "11   0.3487819  test explorer msn download ignore free http://explorer.msn.com http://explorer.ms..\n",
       "67   0.2972927  kudlow commentary l. latest 's park j. nugent kudlow103001.doc word              ..\n",
       "59   0.2779909  hou enron@enron ect@ect ees@ees enron_development@enron_development na corp enron..\n",
       "191  0.2517818  = notional date transactions $ enron 's story new jeff                           ..\n",
       "115  0.1941766  $ goal gas raise eps 's jeff pledge enron n                                      ..\n",
       "74   0.1804318  yahoo groups mail smu-betas-unsubscribe@egroups.com unsubscribe betas terms smu e..\n",
       "42   0.1760703  email homecoming elvis chuck beta address -kai- smu yahoo andreessen             ..\n",
       "46   0.1749137  survey minutes credit union 's complete enron link october meeting               ..\n",
       "49   0.1702181  forum june draw meeting memo.doc houston attend morgan valet information         ..\n",
       "42   0.1541129  ypo oaxaca retreat chapter couple dates form.doc invitation diego morgan         ..\n",
       "85   0.1251243  meeting club ride cycling houston steph dell flatlands thanks reimbursements     ..\n",
       "59   0.1222904  energy policy trading retention newpower voice 's weather cera power             ..\n",
       "49   0.109146   congratulations plan jeff jim enron proud succession great knew --dorothy        ..\n",
       "56   0.0866153  jeff congrats engagement skilling cyberair sherri skilling.doc sera enron dynegy ..\n",
       "148  0.0833318  enron letter doc 's corp action employees jeff luminant skilling.doc             ..\n",
       "1142 0.03455149 enron jeff thanks 's know time thank like let skilling                           ..\n"
      ]
     },
     "execution_count": 31,
     "metadata": {},
     "output_type": "execute_result"
    }
   ],
   "source": [
    "clusters:.nlp.cluster.summarize[jeffcorpus;20];\n",
    "format[jeffcorpus; clusters]"
   ]
  },
  {
   "cell_type": "markdown",
   "metadata": {},
   "source": [
    "### Radix clustering\n",
    "\n",
    "For clustering very large datasets, `.nlp.radix` and `.nlp.fastRadix` are very performant and can cluster tens of thousands or millions of documents per minute, respectively."
   ]
  },
  {
   "cell_type": "code",
   "execution_count": 32,
   "metadata": {},
   "outputs": [
    {
     "data": {
      "text/plain": [
       "2603\n"
      ]
     },
     "execution_count": 32,
     "metadata": {},
     "output_type": "execute_result"
    },
    {
     "data": {
      "text/plain": [
       "302\n"
      ]
     },
     "execution_count": 32,
     "metadata": {},
     "output_type": "execute_result"
    },
    {
     "data": {
      "text/plain": [
       "81\n"
      ]
     },
     "execution_count": 32,
     "metadata": {},
     "output_type": "execute_result"
    }
   ],
   "source": [
    "count jeffcorpus\n",
    "\\t .nlp.cluster.radix[jeffcorpus;50]\n",
    "\\t .nlp.cluster.fastRadix[jeffcorpus;50]"
   ]
  },
  {
   "cell_type": "markdown",
   "metadata": {},
   "source": [
    "---"
   ]
  },
  {
   "cell_type": "markdown",
   "metadata": {},
   "source": [
    "<a id='VAST'></a>\n",
    "# VAST Challenge 2014"
   ]
  },
  {
   "cell_type": "markdown",
   "metadata": {},
   "source": [
    "The IEEE VAST 2014 Challenge data includes a collection of fictional news articles describing protests around corporate pollution of groundwater and a related kidnapping. It can be found on the [Visual Analytics Community website](http://vacommunity.org/VAST+Challenge+2014%3A+Mini-Challenge+1#Available_Data)."
   ]
  },
  {
   "cell_type": "markdown",
   "metadata": {},
   "source": [
    "### MCL clustering \n",
    "\n",
    "For clustering under 1000 documents, MCL clustering an algorithm that lets you choose the trade-off between cluster size and cohesion very precisely. It takes the minimum similarity at which it will consider documents related as a parameter. Setting this to a high value will cluster different drafts or versions of the same document together, while setting it to a low value results in large clusters of thematically related documents.\n",
    "\n",
    "This is well demonstated using the VAST Challenge 2014 dataset."
   ]
  },
  {
   "cell_type": "code",
   "execution_count": 33,
   "metadata": {},
   "outputs": [],
   "source": [
    "article:.nlp.loadTextFromDir\"../data/articles\"\n",
    "articlecorpus:myparser article`text"
   ]
  },
  {
   "cell_type": "code",
   "execution_count": 34,
   "metadata": {},
   "outputs": [],
   "source": [
    "compare:{[corpus;similarity]\n",
    " clusters:.nlp.cluster.MCL[corpus;similarity;0b];\n",
    " `size`cohesion!(avg count each clusters;avg .nlp.cluster.MSE each corpus[`keywords]clusters)};"
   ]
  },
  {
   "cell_type": "code",
   "execution_count": 35,
   "metadata": {},
   "outputs": [
    {
     "data": {
      "text/plain": [
       "size     cohesion \n",
       "------------------\n",
       "211.25   0.4163407\n",
       "65       0.3928218\n",
       "13.15625 0.4671761\n",
       "7.17094  0.5280389\n",
       "5.493151 0.5580147\n",
       "4.8      0.6100898\n",
       "3.954545 0.6669875\n"
      ]
     },
     "execution_count": 35,
     "metadata": {},
     "output_type": "execute_result"
    }
   ],
   "source": [
    "compare[articlecorpus]each .07 .1 .2 .3 .4 .5 .6"
   ]
  },
  {
   "cell_type": "markdown",
   "metadata": {},
   "source": [
    "### Building a timeline\n",
    "The IEEE VAST 2014 Challenge dataset contains several articles describing a kidnapping. One of the problems in the challenge was to build a timeline of the day of the kidnapping, given a collection of news articles.\n",
    "\n",
    "Below we find the dates of all documents, and any sentences containing times, and uses that to build a timeline. "
   ]
  },
  {
   "cell_type": "code",
   "execution_count": 36,
   "metadata": {},
   "outputs": [
    {
     "data": {
      "text/plain": [
       "time  text                                                                                       ..\n",
       "-------------------------------------------------------------------------------------------------..\n",
       "02:00 \"1853 MODERNIZATION - speculation that the arrival of PM of 2:00 of the civil employee of g..\n",
       "10:00 \"The cars of the body of firemen of Avila were sent to the headquarters of GAStech - of Kro..\n",
       "10:00 \"Little time after the morning the meeting was closed with 10:00, trucks of department of f..\n",
       "10:00 \"Abila Fire Department trucks were dispatched to GAStech - Kronos headquarters around 10:00..\n",
       "10:00 \"Shortly after the morning meeting ended at 10:00, Abila Fire Department trucks responded t..\n",
       "10:00 \"Shortly after tomorrow the meeting finished in the 10:00, Abila that the cars of the body ..\n",
       "10:00 \"Abila Fire Department trucks were dispatched to GAStech - Kronos headquarters around 10:00..\n",
       "10:00 \"Abila Fire Department trucks were dispatched to GAStech - Kronos headquarters around 10:00..\n",
       "10:00 \"Trucks of department of fire of Abila were dispatched with the registered offices of GASte..\n",
       "10:00 \"Shortly after the morning meeting ended at 10:00, Abila Fire Department trucks responded t..\n",
       "10:00 \"The freight carriages of the department of the fire of Abila to hoofdkwartier GAStech - Kr..\n",
       "10:00 \"Shortly after the morning meeting who becomes at 10:00 gebeindigd, the freight carriages o..\n",
       "10:15 \"At approximately 10:15 AM this morning, the fire alarm went off at the GAStech headquarter..\n",
       "10:15 \"Approximately to the 10:15 this morning, the fire fire signaler has been extinguished to t..\n",
       "10:20 \"Modernization, 10:20:  It employs you of GAStech evacuate the sheets of the helicopter and..\n",
       "10:20 \"Update, 10:20 AM:  GAStech employees evacuate the building and a helicopter leaves from th..\n",
       "10:30 \"Modernization, 10:30:  The fire unit of Abila answers to the alarm.\"                      ..\n",
       "10:30 \"Update, 10:30 AM:  Abila fire department responds to the alarm.\"                          ..\n",
       "10:50 \"Update, 10:50 AM:  A GAStech employee reports that the fire alarm was pulled in response t..\n",
       "10:50 \"Modernization, 10:50:  An employee of GAStech marks it that the fire fire signaler has bee..\n",
       "11:45 \"At 11:45 AM they gave the all clear for the GAStech employees to re-enter the building.\"  ..\n",
       "11:45 \"To the 11:45 they have given all the free one so that the construction employs it you of G..\n",
       "11:45 \"Update, 11:45 AM:  Fire department officials allow GAStech employees to re-enter the build..\n",
       "11:45 \"Modernization, 11:45:  The civil employees of fire unit allow that the construction employ..\n",
       "12:20 \"Update, 12:20 PM:  The Abila police have been called to respond to GAStech headquarters fo..\n",
       "..\n"
      ]
     },
     "execution_count": 36,
     "metadata": {},
     "output_type": "execute_result"
    }
   ],
   "source": [
    "/ use the first date in a document as the date of that document\n",
    "articlecorpus[`date]:{$[x~();0nd;x]}each(.nlp.findDates peach articlecorpus`text)[;0;0]\n",
    "\n",
    "/ filter out documents outside the range we are interested in\n",
    "articlecorpus@:where articlecorpus[`date]=2014.01.20\n",
    "\n",
    "/ function will find times, extract the sentences with those times and pair them with the corresponding timestamp\n",
    "buildTimeline:{[doc]\n",
    " times:.nlp.findTimes doc`text;\n",
    " sentences:{last \"\\n\\n\" vs x}each .nlp.getSentences[doc]doc[`sentChars][;0]bin times[;2];\n",
    " (times[;0]+doc`date),'enlist each sentences}\n",
    "\n",
    "/ find the timelines per-document and raze them into a single timeline\n",
    "timeline:raze buildTimeline each articlecorpus\n",
    "\n",
    "/ sort the timeline\n",
    "timeline:timeline iasc timeline[;0]\n",
    "\n",
    "/ show the sentences sorted by date and time\n",
    "([]time:`minute$timeline[;0];text:timeline[;1])"
   ]
  },
  {
   "cell_type": "markdown",
   "metadata": {},
   "source": [
    "---"
   ]
  }
 ],
 "metadata": {
  "kernelspec": {
   "display_name": "Q (kdb+)",
   "language": "q",
   "name": "qpk"
  },
  "language_info": {
   "file_extension": ".q",
   "mimetype": "text/x-q",
   "name": "q",
   "version": "3.5.0"
  }
 },
 "nbformat": 4,
 "nbformat_minor": 2
}
