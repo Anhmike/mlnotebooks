{
 "cells": [
  {
   "cell_type": "markdown",
   "metadata": {},
   "source": [
    "# Machine Learning Demonstrations"
   ]
  },
  {
   "cell_type": "markdown",
   "metadata": {},
   "source": [
    "In this notebook, we showcase how to use kdb+/q paired with embedPy to carry out machine learning tasks. Below we show how to train and test a k-nearest neighbors model to cluster data from the Wisconsin Breast Cancer dataset.\n",
    "\n",
    "<div class=\"alert alert-danger\">\n",
    "To run the below notebook, ensure that dependencies specified in <b>requirements.txt</b> have been correctly installed.\n",
    "</div>"
   ]
  },
  {
   "cell_type": "markdown",
   "metadata": {},
   "source": [
    "## EmbedPy"
   ]
  },
  {
   "cell_type": "markdown",
   "metadata": {},
   "source": [
    "EmbedPy allows the kdb+/q interpreter to manipulate Python objects, call Python functions and load Python libraries. Python and kdb+/q developers can fuse both technologies together, allowing for a seamless application of kdb+/q’s high-speed analytics and Python’s rich ecosystem of libraries such as scikit-learn, Tensorflow, PyTorch and Theano."
   ]
  },
  {
   "cell_type": "markdown",
   "metadata": {},
   "source": [
    "## Classification Using K-Nearest Neighbors"
   ]
  },
  {
   "cell_type": "markdown",
   "metadata": {},
   "source": [
    "The k-nearest neighbors (KNN) algorithm is a simple yet effective algorithm used for supervised classification and regression problems. For a given datapoint, KNN finds the k datapoints in the training set that are closest to that point in the feature space. The prediciton is then the average (for regression) or modal (for classification) value of the neighbors.\n",
    "\n",
    "KNN is considered a non-parametric model, as it does not strictly train on the data. Instead, it retains the entire training dataset, to predict new test points. It should be noted that although KNN is considered to be non-parametric, the number of neighbors considered as an important hyperparameter to the model.\n",
    "\n",
    "Further discussion of k-NN can be found on the [Wikipedia article](https://en.wikipedia.org/wiki/K-nearest_neighbors_algorithm) or [Sci-Kit Learn documentation](http://scikit-learn.org/stable/modules/neighbors.html)."
   ]
  },
  {
   "cell_type": "markdown",
   "metadata": {},
   "source": [
    "## Breast Cancer Data"
   ]
  },
  {
   "cell_type": "markdown",
   "metadata": {},
   "source": [
    "The [Wisconsin Breast Cancer Dataset](https://archive.ics.uci.edu/ml/datasets/Breast+Cancer+Wisconsin+(Diagnostic)) is a set of 569 samples of fine needle aspirate (FNA) of breast mass. Each sample contains features describing characteristics of the cell nuclei, along with a classification of the sample as either benign or malignant."
   ]
  },
  {
   "cell_type": "markdown",
   "metadata": {},
   "source": [
    "---"
   ]
  },
  {
   "cell_type": "markdown",
   "metadata": {},
   "source": [
    "### Load data\n",
    "\n",
    "In the cell below, we load in the utilities library from the kdb+/q [ML-Toolkit](https://github.com/KxSystems/ml), along with graphics functions required for this notebook. We then use embedPy to import relevant python modules and load data from the Wisconsin Breast Cancer dataset."
   ]
  },
  {
   "cell_type": "code",
   "execution_count": 1,
   "metadata": {},
   "outputs": [],
   "source": [
    "\\l ../utils/graphics.q\n",
    "\\l ../utils/util.q\n",
    "\\l ml/ml.q\n",
    ".ml.loadfile`:init.q"
   ]
  },
  {
   "cell_type": "code",
   "execution_count": 2,
   "metadata": {},
   "outputs": [
    {
     "name": "stdout",
     "output_type": "stream",
     "text": [
      "Shape of features is 569 x 30\n",
      "\n",
      "17.99 10.38 122.8 1001  0.1184  0.2776  0.3001 0.1471  0.2419 0.07871 1.095  ..\n",
      "20.57 17.77 132.9 1326  0.08474 0.07864 0.0869 0.07017 0.1812 0.05667 0.5435 ..\n",
      "19.69 21.25 130   1203  0.1096  0.1599  0.1974 0.1279  0.2069 0.05999 0.7456 ..\n",
      "11.42 20.38 77.58 386.1 0.1425  0.2839  0.2414 0.1052  0.2597 0.09744 0.4956 ..\n",
      "20.29 14.34 135.1 1297  0.1003  0.1328  0.198  0.1043  0.1809 0.05883 0.7572 ..\n",
      "\n",
      "Missing feature values: 0\n",
      "Missing target  values: 0\n",
      "\n",
      "Distribution of target values:\n",
      "\n",
      "target| num pcnt \n",
      "------| ---------\n",
      "0     | 212 37.26\n",
      "1     | 357 62.74\n"
     ]
    }
   ],
   "source": [
    "data:.p.import[`sklearn.datasets;`:load_breast_cancer][]\n",
    "feat:data[`:data]`\n",
    "targ:data[`:target]`\n",
    "targnms:getunicode data`:target_names\n",
    "featnms:getunicode data`:feature_names\n",
    "\n",
    "/ Inspect data\n",
    "-1\"Shape of features is \",(\" x \"sv string .ml.shape feat),\"\\n\";\n",
    "show 5#feat\n",
    "-1\"\\nMissing feature values: \",string sum where null raze feat;\n",
    "-1\"Missing target  values: \",string sum where null raze targ;\n",
    "-1\"\\nDistribution of target values:\\n\";\n",
    "show update pcnt:round[;.01]100*num%sum num from select num:count i by target from([]target:targ);"
   ]
  },
  {
   "cell_type": "markdown",
   "metadata": {},
   "source": [
    "The output above shows that classes are quite unbalanced:\n",
    "- `37%` are malignant (0)\n",
    "- `63%` are benign (1)"
   ]
  },
  {
   "cell_type": "markdown",
   "metadata": {},
   "source": [
    "---"
   ]
  },
  {
   "cell_type": "markdown",
   "metadata": {},
   "source": [
    "### Feature scaling \n",
    "\n",
    "KNN needs to calculate the distance between points in the feature space, in order to identify the k nearest points. The features must therefore be standardized so they all have the same scale otherwise features with the most magnified scale would be assigned the highest weighting in terms of prediction.\n",
    "\n",
    "Below we inspect the range of each of the 30 features in the dataset."
   ]
  },
  {
   "cell_type": "code",
   "execution_count": 3,
   "metadata": {},
   "outputs": [
    {
     "data": {
      "image/png": "[encoded data removed]",
      "text/plain": [
       "<Figure size 460.8x345.6 with 1 Axes>"
      ]
     },
     "metadata": {},
     "output_type": "display_data"
    }
   ],
   "source": [
    "x:til count feat 0\n",
    "y:.ml.range feat\n",
    "plt[`:bar][x;y;`align pykw\"center\";`alpha pykw .5];\n",
    "plt[`:ylabel]\"Range\";\n",
    "plt[`:title]\"Ranges of Features\";\n",
    "plt[`:show][];"
   ]
  },
  {
   "cell_type": "markdown",
   "metadata": {},
   "source": [
    "The plot above highlights the vast difference in ranges for each of the columns so standardization will be necessary before using KNN. At this stage we scale each of the features independently to sit between 0 and 1 using `.ml.minmaxscaler`."
   ]
  },
  {
   "cell_type": "code",
   "execution_count": 4,
   "metadata": {},
   "outputs": [
    {
     "data": {
      "image/png": "[encoded data removed]",
      "text/plain": [
       "<Figure size 460.8x345.6 with 1 Axes>"
      ]
     },
     "metadata": {},
     "output_type": "display_data"
    }
   ],
   "source": [
    "yscl:.ml.range each featscl:.ml.minmaxscaler flip feat\n",
    "plt[`:bar][x;yscl;`align pykw\"center\";`alpha pykw .5];\n",
    "plt[`:xticks]();\n",
    "plt[`:ylabel]\"Range\";\n",
    "plt[`:title]\"New ranges of Features\";\n",
    "plt[`:show][];"
   ]
  },
  {
   "cell_type": "markdown",
   "metadata": {},
   "source": [
    "---"
   ]
  },
  {
   "cell_type": "markdown",
   "metadata": {},
   "source": [
    "### Split data\n",
    "\n",
    "KNN classifiers predict classes by finding the k points in the training set that are _\"closest\"_ to the test point in the feature space.\n",
    "\n",
    "As such, they do not strictly _train_ on the data, instead they essentially retain all of it and uses the entire dataset to predict the classification of new test points. Implementations, including the sci-kit learn method, may build tree structures using the training data to allow optimal quering of the nearest neighbors for a test set. \n",
    "\n",
    "We will split the data into training and testing sets, with 50% of the data in each, and evaluate the accuracy of the classifier across a range of values for k."
   ]
  },
  {
   "cell_type": "code",
   "execution_count": 5,
   "metadata": {},
   "outputs": [
    {
     "name": "stdout",
     "output_type": "stream",
     "text": [
      "xtrain| 284\n",
      "ytrain| 284\n",
      "xtest | 285\n",
      "ytest | 285\n"
     ]
    }
   ],
   "source": [
    "\\S 123  / random seed\n",
    "show count each datadict:.ml.traintestsplit[flip featscl;targ;.5]"
   ]
  },
  {
   "cell_type": "markdown",
   "metadata": {},
   "source": [
    "---"
   ]
  },
  {
   "cell_type": "markdown",
   "metadata": {},
   "source": [
    "### Fit and evaluate model"
   ]
  },
  {
   "cell_type": "code",
   "execution_count": 6,
   "metadata": {},
   "outputs": [
    {
     "data": {
      "image/png": "[encoded data removed]",
      "text/plain": [
       "<Figure size 1080x720 with 1 Axes>"
      ]
     },
     "metadata": {},
     "output_type": "display_data"
    }
   ],
   "source": [
    "knn:.p.import[`sklearn.neighbors]`:KNeighborsClassifier\n",
    "checkaccuracy:{[d;k] \n",
    " clf:knn[`n_neighbors pykw k;`metric pykw\"minkowski\"];\n",
    " clf[`:fit]. d`xtrain`ytrain; \n",
    " pred:clf[`:predict][d`xtest]`; \n",
    " .ml.accuracy[pred;datadict`ytest]}\n",
    "\n",
    "/ evaluate 1 <= k <= 200\n",
    "accuracies:checkaccuracy[datadict]each k:1+til 200\n",
    "\n",
    "plot:.p.wrap each`fig`ax!plt[`:subplots][]`;\n",
    "plot[`fig][`:set_figheight]10;\n",
    "plot[`fig][`:set_figwidth]15;\n",
    "plot[`ax][`:plot][k;accuracies];\n",
    "plt[`:xlabel]\"No. neighbours(k)\";\n",
    "plt[`:ylabel]\"Accuracy\";\n",
    "plt[`:title]\"Accuracy vs. k Neighbors\";\n",
    "plt[`:show][];"
   ]
  },
  {
   "cell_type": "markdown",
   "metadata": {},
   "source": [
    "---"
   ]
  },
  {
   "cell_type": "markdown",
   "metadata": {},
   "source": [
    "### Results\n",
    "\n",
    "**k<25**:\n",
    "Accuracy improves as k decreases indicating that the model overfits the data for very low values of k. Overfitting means that the model memorizes the training data, resulting in almost perfect predictions on the training set, but the model does not generalize well to unseen data. Therefore, taking more neighbors into account will create a more generalized dataset and will improve the accuracy of predictions on the test set.\n",
    "\n",
    "**k>25**:\n",
    "Accuracy gets worse as k increases. Beyond k=11 the model suffers due to underfitting where the model oversimplifies the distribution of the data and misses important details of the distribution. Adding more degrees-of-freedom will only make matters worse."
   ]
  },
  {
   "cell_type": "markdown",
   "metadata": {},
   "source": [
    "---"
   ]
  },
  {
   "cell_type": "markdown",
   "metadata": {},
   "source": [
    "### Conclusions\n",
    "\n",
    "The optimal choice of k for the Wisconsin Breast Cancer Dataset appears to be 25, looking at the results above.\n",
    "\n",
    "This is an example of hyperparameter *tuning*, used to evaluate the best value of a hyperparameter. More complicated strategies (such as k-fold cross-validation) use different splits of training and validation data, increasing the overall data available for training.\n",
    "\n",
    "The KNN classifier (with k=25) obtains 95% accuracy on the test dataset. This shows significant predictive power over the baseline strategy of always predicting the most popular class (63% accuracy)."
   ]
  },
  {
   "cell_type": "markdown",
   "metadata": {},
   "source": [
    "---"
   ]
  }
 ],
 "metadata": {
  "kernelspec": {
   "display_name": "Q (kdb+)",
   "language": "q",
   "name": "qpk"
  },
  "language_info": {
   "file_extension": ".q",
   "mimetype": "text/x-q",
   "name": "q",
   "version": "3.6.0"
  }
 },
 "nbformat": 4,
 "nbformat_minor": 2
}
