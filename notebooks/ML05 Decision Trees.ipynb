{
 "cells": [
  {
   "cell_type": "markdown",
   "metadata": {},
   "source": [
    "# Machine Learning Demonstrations - 5\n",
    "\n",
    "To run these notebooks, you need to install python dependencies:\n",
    "\n",
    "With pip:\n",
    "\n",
    "```pip install numpy==1.14.0\n",
    "pip install scipy==1.0.0\n",
    "pip install graphviz==0.5.2\n",
    "pip install matplotlib==2.1.2\n",
    "pip install scikit_learn==0.19.1```\n",
    "\n",
    "\n",
    "Graphviz requires to be installed using *conda* also\n",
    "\n",
    "With conda:\n",
    "\n",
    "```conda install -c anaconda graphviz```\n",
    "## Classification using Decision Trees\n",
    "\n",
    "Decision Trees are a simple but effective algorithm, used for supervised classification and regression problems.\n",
    "\n",
    "Decision Trees can\n",
    "- Manage a mixture of discrete, continuous and categorical inputs\n",
    "- Use data with no normalization/pre-processing (including missing data)\n",
    "- Produce a highly-interpretable output, which can be easily explained and visualized\n",
    "\n",
    "A decision tree is a collection of simple hierarchical decision rules, classifying datapoints into categories by *splitting* on feature values. The task of *fitting* a decision tree to data, is therefore the task of finding the sequence of feature splits and the optimal split values.\n",
    "\n",
    "Further discussion of decision trees can be found on the [Wikipedia article](https://en.wikipedia.org/wiki/Decision_tree) or [Sci-Kit Learn documentation](http://scikit-learn.org/stable/modules/tree.html)."
   ]
  },
  {
   "cell_type": "markdown",
   "metadata": {},
   "source": [
    "## Breast Cancer Data\n",
    "The Wisconsin Breast Cancer dataset is a set of 569 samples of fine needle aspirate (FNA) of breast mass. Each sample contains features describing characteristics of the cell nuclei , along with a classification of the sample as either benign or malignant."
   ]
  },
  {
   "cell_type": "markdown",
   "metadata": {},
   "source": [
    "### Load data"
   ]
  },
  {
   "cell_type": "code",
   "execution_count": 1,
   "metadata": {},
   "outputs": [],
   "source": [
    "/ Utility functions\n",
    "\\l ../utils/funcs.q\n",
    "\\l ../utils/graphics.q"
   ]
  },
  {
   "cell_type": "code",
   "execution_count": 2,
   "metadata": {},
   "outputs": [
    {
     "name": "stdout",
     "output_type": "stream",
     "text": [
      "Shape of feature data is: 569 x 30\n",
      "\n",
      "17.99 10.38 122.8 1001  0.1184  0.2776  0.3001 0.1471  0.2419 0.07871 1.095  ..\n",
      "20.57 17.77 132.9 1326  0.08474 0.07864 0.0869 0.07017 0.1812 0.05667 0.5435 ..\n",
      "19.69 21.25 130   1203  0.1096  0.1599  0.1974 0.1279  0.2069 0.05999 0.7456 ..\n",
      "11.42 20.38 77.58 386.1 0.1425  0.2839  0.2414 0.1052  0.2597 0.09744 0.4956 ..\n",
      "20.29 14.34 135.1 1297  0.1003  0.1328  0.198  0.1043  0.1809 0.05883 0.7572 ..\n",
      "\n",
      "Distribution of target values is:\n",
      "\n",
      "target| num pcnt \n",
      "------| ---------\n",
      "0     | 212 37.26\n",
      "1     | 357 62.74\n"
     ]
    }
   ],
   "source": [
    "data:.p.import[`sklearn.datasets;`:load_breast_cancer][]\n",
    "X:data[`:data]`\n",
    "y:data[`:target]`\n",
    "featnames:getunicode data`:feature_names\n",
    "/ Inspect data\n",
    "-1\"Shape of feature data is: \",sv[\" x \"]string shape X;\n",
    "-1\"\";show 5#X;-1\"\";\n",
    "-1\"Distribution of target values is:\\n\";\n",
    "show update pcnt:round[;.01]100*num%sum num from select num:count i by target from([]target:y);"
   ]
  },
  {
   "cell_type": "markdown",
   "metadata": {},
   "source": [
    "Classes are quite unbalanced\n",
    "- 37% are malignant (0)\n",
    "- 63% are benign (1)"
   ]
  },
  {
   "cell_type": "markdown",
   "metadata": {},
   "source": [
    "### Split data\n",
    "50/50 training/test split"
   ]
  },
  {
   "cell_type": "code",
   "execution_count": 3,
   "metadata": {},
   "outputs": [
    {
     "name": "stdout",
     "output_type": "stream",
     "text": [
      "xtrain| 284\n",
      "ytrain| 284\n",
      "xtest | 285\n",
      "ytest | 285\n"
     ]
    }
   ],
   "source": [
    "\\S 123 / random seed\n",
    "show count each datadict:traintestsplit[X;y;.5]"
   ]
  },
  {
   "cell_type": "markdown",
   "metadata": {},
   "source": [
    "### Fit model"
   ]
  },
  {
   "cell_type": "markdown",
   "metadata": {},
   "source": [
    "We fit a DecisionTreeClassifier model, restricting the tree to a maximum depth of 3."
   ]
  },
  {
   "cell_type": "code",
   "execution_count": 4,
   "metadata": {},
   "outputs": [],
   "source": [
    "DecisionTreeClassifier:.p.import[`sklearn.tree]`:DecisionTreeClassifier\n",
    "classifier:DecisionTreeClassifier[`max_depth pykw 3]\n",
    "classifier[`:fit][datadict.xtrain;datadict.ytrain];"
   ]
  },
  {
   "cell_type": "markdown",
   "metadata": {},
   "source": [
    "Using the graph visualization software [Graphviz](https://www.graphviz.org/), we can look at the structure of the resulting decision tree."
   ]
  },
  {
   "cell_type": "code",
   "execution_count": 5,
   "metadata": {},
   "outputs": [
    {
     "data": {
      "image/svg+xml": [
       "<?xml version=\"1.0\" encoding=\"UTF-8\" standalone=\"no\"?>\n",
       "<!DOCTYPE svg PUBLIC \"-//W3C//DTD SVG 1.1//EN\"\n",
       " \"http://www.w3.org/Graphics/SVG/1.1/DTD/svg11.dtd\">\n",
       "<!-- Generated by graphviz version 2.40.1 (20161225.0304)\n",
       " -->\n",
       "<!-- Title: Tree Pages: 1 -->\n",
       "<svg width=\"902pt\" height=\"373pt\"\n",
       " viewBox=\"0.00 0.00 901.50 373.00\" xmlns=\"http://www.w3.org/2000/svg\" xmlns:xlink=\"http://www.w3.org/1999/xlink\">\n",
       "<g id=\"graph0\" class=\"graph\" transform=\"scale(1 1) rotate(0) translate(4 369)\">\n",
       "<title>Tree</title>\n",
       "<polygon fill=\"#ffffff\" stroke=\"transparent\" points=\"-4,4 -4,-369 897.5,-369 897.5,4 -4,4\"/>\n",
       "<!-- 0 -->\n",
       "<g id=\"node1\" class=\"node\">\n",
       "<title>0</title>\n",
       "<polygon fill=\"none\" stroke=\"#000000\" points=\"535.5,-365 349.5,-365 349.5,-297 535.5,-297 535.5,-365\"/>\n",
       "<text text-anchor=\"middle\" x=\"442.5\" y=\"-349.8\" font-family=\"Times,serif\" font-size=\"14.00\" fill=\"#000000\">mean concave points &lt;= 0.052</text>\n",
       "<text text-anchor=\"middle\" x=\"442.5\" y=\"-334.8\" font-family=\"Times,serif\" font-size=\"14.00\" fill=\"#000000\">gini = 0.46</text>\n",
       "<text text-anchor=\"middle\" x=\"442.5\" y=\"-319.8\" font-family=\"Times,serif\" font-size=\"14.00\" fill=\"#000000\">samples = 284</text>\n",
       "<text text-anchor=\"middle\" x=\"442.5\" y=\"-304.8\" font-family=\"Times,serif\" font-size=\"14.00\" fill=\"#000000\">value = [102, 182]</text>\n",
       "</g>\n",
       "<!-- 1 -->\n",
       "<g id=\"node2\" class=\"node\">\n",
       "<title>1</title>\n",
       "<polygon fill=\"none\" stroke=\"#000000\" points=\"429.5,-261 295.5,-261 295.5,-193 429.5,-193 429.5,-261\"/>\n",
       "<text text-anchor=\"middle\" x=\"362.5\" y=\"-245.8\" font-family=\"Times,serif\" font-size=\"14.00\" fill=\"#000000\">mean area &lt;= 694.15</text>\n",
       "<text text-anchor=\"middle\" x=\"362.5\" y=\"-230.8\" font-family=\"Times,serif\" font-size=\"14.00\" fill=\"#000000\">gini = 0.076</text>\n",
       "<text text-anchor=\"middle\" x=\"362.5\" y=\"-215.8\" font-family=\"Times,serif\" font-size=\"14.00\" fill=\"#000000\">samples = 176</text>\n",
       "<text text-anchor=\"middle\" x=\"362.5\" y=\"-200.8\" font-family=\"Times,serif\" font-size=\"14.00\" fill=\"#000000\">value = [7, 169]</text>\n",
       "</g>\n",
       "<!-- 0&#45;&gt;1 -->\n",
       "<g id=\"edge1\" class=\"edge\">\n",
       "<title>0&#45;&gt;1</title>\n",
       "<path fill=\"none\" stroke=\"#000000\" d=\"M416.305,-296.9465C409.4675,-288.0578 402.0166,-278.3716 394.899,-269.1188\"/>\n",
       "<polygon fill=\"#000000\" stroke=\"#000000\" points=\"397.6252,-266.9223 388.7538,-261.13 392.0768,-271.1903 397.6252,-266.9223\"/>\n",
       "<text text-anchor=\"middle\" x=\"385.5204\" y=\"-282.22\" font-family=\"Times,serif\" font-size=\"14.00\" fill=\"#000000\">True</text>\n",
       "</g>\n",
       "<!-- 8 -->\n",
       "<g id=\"node9\" class=\"node\">\n",
       "<title>8</title>\n",
       "<polygon fill=\"none\" stroke=\"#000000\" points=\"593.5,-261 465.5,-261 465.5,-193 593.5,-193 593.5,-261\"/>\n",
       "<text text-anchor=\"middle\" x=\"529.5\" y=\"-245.8\" font-family=\"Times,serif\" font-size=\"14.00\" fill=\"#000000\">worst area &lt;= 817.6</text>\n",
       "<text text-anchor=\"middle\" x=\"529.5\" y=\"-230.8\" font-family=\"Times,serif\" font-size=\"14.00\" fill=\"#000000\">gini = 0.212</text>\n",
       "<text text-anchor=\"middle\" x=\"529.5\" y=\"-215.8\" font-family=\"Times,serif\" font-size=\"14.00\" fill=\"#000000\">samples = 108</text>\n",
       "<text text-anchor=\"middle\" x=\"529.5\" y=\"-200.8\" font-family=\"Times,serif\" font-size=\"14.00\" fill=\"#000000\">value = [95, 13]</text>\n",
       "</g>\n",
       "<!-- 0&#45;&gt;8 -->\n",
       "<g id=\"edge8\" class=\"edge\">\n",
       "<title>0&#45;&gt;8</title>\n",
       "<path fill=\"none\" stroke=\"#000000\" d=\"M470.9871,-296.9465C478.4979,-287.968 486.6895,-278.1758 494.5005,-268.8385\"/>\n",
       "<polygon fill=\"#000000\" stroke=\"#000000\" points=\"497.2171,-271.0459 500.9489,-261.13 491.848,-266.5544 497.2171,-271.0459\"/>\n",
       "<text text-anchor=\"middle\" x=\"503.1653\" y=\"-282.3316\" font-family=\"Times,serif\" font-size=\"14.00\" fill=\"#000000\">False</text>\n",
       "</g>\n",
       "<!-- 2 -->\n",
       "<g id=\"node3\" class=\"node\">\n",
       "<title>2</title>\n",
       "<polygon fill=\"none\" stroke=\"#000000\" points=\"238.5,-157 100.5,-157 100.5,-89 238.5,-89 238.5,-157\"/>\n",
       "<text text-anchor=\"middle\" x=\"169.5\" y=\"-141.8\" font-family=\"Times,serif\" font-size=\"14.00\" fill=\"#000000\">worst radius &lt;= 16.88</text>\n",
       "<text text-anchor=\"middle\" x=\"169.5\" y=\"-126.8\" font-family=\"Times,serif\" font-size=\"14.00\" fill=\"#000000\">gini = 0.024</text>\n",
       "<text text-anchor=\"middle\" x=\"169.5\" y=\"-111.8\" font-family=\"Times,serif\" font-size=\"14.00\" fill=\"#000000\">samples = 167</text>\n",
       "<text text-anchor=\"middle\" x=\"169.5\" y=\"-96.8\" font-family=\"Times,serif\" font-size=\"14.00\" fill=\"#000000\">value = [2, 165]</text>\n",
       "</g>\n",
       "<!-- 1&#45;&gt;2 -->\n",
       "<g id=\"edge2\" class=\"edge\">\n",
       "<title>1&#45;&gt;2</title>\n",
       "<path fill=\"none\" stroke=\"#000000\" d=\"M299.3046,-192.9465C280.893,-183.0252 260.6377,-172.1105 241.715,-161.9138\"/>\n",
       "<polygon fill=\"#000000\" stroke=\"#000000\" points=\"243.301,-158.7926 232.8374,-157.13 239.9803,-164.9549 243.301,-158.7926\"/>\n",
       "</g>\n",
       "<!-- 5 -->\n",
       "<g id=\"node6\" class=\"node\">\n",
       "<title>5</title>\n",
       "<polygon fill=\"none\" stroke=\"#000000\" points=\"434,-157 291,-157 291,-89 434,-89 434,-157\"/>\n",
       "<text text-anchor=\"middle\" x=\"362.5\" y=\"-141.8\" font-family=\"Times,serif\" font-size=\"14.00\" fill=\"#000000\">mean texture &lt;= 19.83</text>\n",
       "<text text-anchor=\"middle\" x=\"362.5\" y=\"-126.8\" font-family=\"Times,serif\" font-size=\"14.00\" fill=\"#000000\">gini = 0.494</text>\n",
       "<text text-anchor=\"middle\" x=\"362.5\" y=\"-111.8\" font-family=\"Times,serif\" font-size=\"14.00\" fill=\"#000000\">samples = 9</text>\n",
       "<text text-anchor=\"middle\" x=\"362.5\" y=\"-96.8\" font-family=\"Times,serif\" font-size=\"14.00\" fill=\"#000000\">value = [5, 4]</text>\n",
       "</g>\n",
       "<!-- 1&#45;&gt;5 -->\n",
       "<g id=\"edge5\" class=\"edge\">\n",
       "<title>1&#45;&gt;5</title>\n",
       "<path fill=\"none\" stroke=\"#000000\" d=\"M362.5,-192.9465C362.5,-184.776 362.5,-175.9318 362.5,-167.3697\"/>\n",
       "<polygon fill=\"#000000\" stroke=\"#000000\" points=\"366.0001,-167.13 362.5,-157.13 359.0001,-167.13 366.0001,-167.13\"/>\n",
       "</g>\n",
       "<!-- 3 -->\n",
       "<g id=\"node4\" class=\"node\">\n",
       "<title>3</title>\n",
       "<polygon fill=\"none\" stroke=\"#000000\" points=\"105,-53 0,-53 0,0 105,0 105,-53\"/>\n",
       "<text text-anchor=\"middle\" x=\"52.5\" y=\"-37.8\" font-family=\"Times,serif\" font-size=\"14.00\" fill=\"#000000\">gini = 0.012</text>\n",
       "<text text-anchor=\"middle\" x=\"52.5\" y=\"-22.8\" font-family=\"Times,serif\" font-size=\"14.00\" fill=\"#000000\">samples = 166</text>\n",
       "<text text-anchor=\"middle\" x=\"52.5\" y=\"-7.8\" font-family=\"Times,serif\" font-size=\"14.00\" fill=\"#000000\">value = [1, 165]</text>\n",
       "</g>\n",
       "<!-- 2&#45;&gt;3 -->\n",
       "<g id=\"edge3\" class=\"edge\">\n",
       "<title>2&#45;&gt;3</title>\n",
       "<path fill=\"none\" stroke=\"#000000\" d=\"M128.2502,-88.9777C116.7039,-79.4545 104.1729,-69.1191 92.689,-59.6473\"/>\n",
       "<polygon fill=\"#000000\" stroke=\"#000000\" points=\"94.8724,-56.9113 84.9308,-53.2485 90.4184,-62.3115 94.8724,-56.9113\"/>\n",
       "</g>\n",
       "<!-- 4 -->\n",
       "<g id=\"node5\" class=\"node\">\n",
       "<title>4</title>\n",
       "<polygon fill=\"none\" stroke=\"#000000\" points=\"215.5,-53 123.5,-53 123.5,0 215.5,0 215.5,-53\"/>\n",
       "<text text-anchor=\"middle\" x=\"169.5\" y=\"-37.8\" font-family=\"Times,serif\" font-size=\"14.00\" fill=\"#000000\">gini = 0.0</text>\n",
       "<text text-anchor=\"middle\" x=\"169.5\" y=\"-22.8\" font-family=\"Times,serif\" font-size=\"14.00\" fill=\"#000000\">samples = 1</text>\n",
       "<text text-anchor=\"middle\" x=\"169.5\" y=\"-7.8\" font-family=\"Times,serif\" font-size=\"14.00\" fill=\"#000000\">value = [1, 0]</text>\n",
       "</g>\n",
       "<!-- 2&#45;&gt;4 -->\n",
       "<g id=\"edge4\" class=\"edge\">\n",
       "<title>2&#45;&gt;4</title>\n",
       "<path fill=\"none\" stroke=\"#000000\" d=\"M169.5,-88.9777C169.5,-80.7364 169.5,-71.887 169.5,-63.5153\"/>\n",
       "<polygon fill=\"#000000\" stroke=\"#000000\" points=\"173.0001,-63.2484 169.5,-53.2485 166.0001,-63.2485 173.0001,-63.2484\"/>\n",
       "</g>\n",
       "<!-- 6 -->\n",
       "<g id=\"node7\" class=\"node\">\n",
       "<title>6</title>\n",
       "<polygon fill=\"none\" stroke=\"#000000\" points=\"325.5,-53 233.5,-53 233.5,0 325.5,0 325.5,-53\"/>\n",
       "<text text-anchor=\"middle\" x=\"279.5\" y=\"-37.8\" font-family=\"Times,serif\" font-size=\"14.00\" fill=\"#000000\">gini = 0.0</text>\n",
       "<text text-anchor=\"middle\" x=\"279.5\" y=\"-22.8\" font-family=\"Times,serif\" font-size=\"14.00\" fill=\"#000000\">samples = 4</text>\n",
       "<text text-anchor=\"middle\" x=\"279.5\" y=\"-7.8\" font-family=\"Times,serif\" font-size=\"14.00\" fill=\"#000000\">value = [0, 4]</text>\n",
       "</g>\n",
       "<!-- 5&#45;&gt;6 -->\n",
       "<g id=\"edge6\" class=\"edge\">\n",
       "<title>5&#45;&gt;6</title>\n",
       "<path fill=\"none\" stroke=\"#000000\" d=\"M333.2373,-88.9777C325.4401,-79.9123 317.01,-70.111 309.1901,-61.0192\"/>\n",
       "<polygon fill=\"#000000\" stroke=\"#000000\" points=\"311.6809,-58.5477 302.5065,-53.2485 306.3738,-63.1123 311.6809,-58.5477\"/>\n",
       "</g>\n",
       "<!-- 7 -->\n",
       "<g id=\"node8\" class=\"node\">\n",
       "<title>7</title>\n",
       "<polygon fill=\"none\" stroke=\"#000000\" points=\"435.5,-53 343.5,-53 343.5,0 435.5,0 435.5,-53\"/>\n",
       "<text text-anchor=\"middle\" x=\"389.5\" y=\"-37.8\" font-family=\"Times,serif\" font-size=\"14.00\" fill=\"#000000\">gini = 0.0</text>\n",
       "<text text-anchor=\"middle\" x=\"389.5\" y=\"-22.8\" font-family=\"Times,serif\" font-size=\"14.00\" fill=\"#000000\">samples = 5</text>\n",
       "<text text-anchor=\"middle\" x=\"389.5\" y=\"-7.8\" font-family=\"Times,serif\" font-size=\"14.00\" fill=\"#000000\">value = [5, 0]</text>\n",
       "</g>\n",
       "<!-- 5&#45;&gt;7 -->\n",
       "<g id=\"edge7\" class=\"edge\">\n",
       "<title>5&#45;&gt;7</title>\n",
       "<path fill=\"none\" stroke=\"#000000\" d=\"M372.0192,-88.9777C374.3763,-80.5533 376.9112,-71.4934 379.2993,-62.9579\"/>\n",
       "<polygon fill=\"#000000\" stroke=\"#000000\" points=\"382.692,-63.8217 382.016,-53.2485 375.9509,-61.9356 382.692,-63.8217\"/>\n",
       "</g>\n",
       "<!-- 9 -->\n",
       "<g id=\"node10\" class=\"node\">\n",
       "<title>9</title>\n",
       "<polygon fill=\"none\" stroke=\"#000000\" points=\"601,-157 458,-157 458,-89 601,-89 601,-157\"/>\n",
       "<text text-anchor=\"middle\" x=\"529.5\" y=\"-141.8\" font-family=\"Times,serif\" font-size=\"14.00\" fill=\"#000000\">worst texture &lt;= 25.89</text>\n",
       "<text text-anchor=\"middle\" x=\"529.5\" y=\"-126.8\" font-family=\"Times,serif\" font-size=\"14.00\" fill=\"#000000\">gini = 0.499</text>\n",
       "<text text-anchor=\"middle\" x=\"529.5\" y=\"-111.8\" font-family=\"Times,serif\" font-size=\"14.00\" fill=\"#000000\">samples = 21</text>\n",
       "<text text-anchor=\"middle\" x=\"529.5\" y=\"-96.8\" font-family=\"Times,serif\" font-size=\"14.00\" fill=\"#000000\">value = [10, 11]</text>\n",
       "</g>\n",
       "<!-- 8&#45;&gt;9 -->\n",
       "<g id=\"edge9\" class=\"edge\">\n",
       "<title>8&#45;&gt;9</title>\n",
       "<path fill=\"none\" stroke=\"#000000\" d=\"M529.5,-192.9465C529.5,-184.776 529.5,-175.9318 529.5,-167.3697\"/>\n",
       "<polygon fill=\"#000000\" stroke=\"#000000\" points=\"533.0001,-167.13 529.5,-157.13 526.0001,-167.13 533.0001,-167.13\"/>\n",
       "</g>\n",
       "<!-- 12 -->\n",
       "<g id=\"node13\" class=\"node\">\n",
       "<title>12</title>\n",
       "<polygon fill=\"none\" stroke=\"#000000\" points=\"806,-157 657,-157 657,-89 806,-89 806,-157\"/>\n",
       "<text text-anchor=\"middle\" x=\"731.5\" y=\"-141.8\" font-family=\"Times,serif\" font-size=\"14.00\" fill=\"#000000\">mean texture &lt;= 14.095</text>\n",
       "<text text-anchor=\"middle\" x=\"731.5\" y=\"-126.8\" font-family=\"Times,serif\" font-size=\"14.00\" fill=\"#000000\">gini = 0.045</text>\n",
       "<text text-anchor=\"middle\" x=\"731.5\" y=\"-111.8\" font-family=\"Times,serif\" font-size=\"14.00\" fill=\"#000000\">samples = 87</text>\n",
       "<text text-anchor=\"middle\" x=\"731.5\" y=\"-96.8\" font-family=\"Times,serif\" font-size=\"14.00\" fill=\"#000000\">value = [85, 2]</text>\n",
       "</g>\n",
       "<!-- 8&#45;&gt;12 -->\n",
       "<g id=\"edge12\" class=\"edge\">\n",
       "<title>8&#45;&gt;12</title>\n",
       "<path fill=\"none\" stroke=\"#000000\" d=\"M593.6916,-193.9509C613.6169,-183.6923 635.7563,-172.2938 656.357,-161.6875\"/>\n",
       "<polygon fill=\"#000000\" stroke=\"#000000\" points=\"658.1006,-164.7265 665.3893,-157.0372 654.8964,-158.5029 658.1006,-164.7265\"/>\n",
       "</g>\n",
       "<!-- 10 -->\n",
       "<g id=\"node11\" class=\"node\">\n",
       "<title>10</title>\n",
       "<polygon fill=\"none\" stroke=\"#000000\" points=\"551.5,-53 453.5,-53 453.5,0 551.5,0 551.5,-53\"/>\n",
       "<text text-anchor=\"middle\" x=\"502.5\" y=\"-37.8\" font-family=\"Times,serif\" font-size=\"14.00\" fill=\"#000000\">gini = 0.0</text>\n",
       "<text text-anchor=\"middle\" x=\"502.5\" y=\"-22.8\" font-family=\"Times,serif\" font-size=\"14.00\" fill=\"#000000\">samples = 10</text>\n",
       "<text text-anchor=\"middle\" x=\"502.5\" y=\"-7.8\" font-family=\"Times,serif\" font-size=\"14.00\" fill=\"#000000\">value = [0, 10]</text>\n",
       "</g>\n",
       "<!-- 9&#45;&gt;10 -->\n",
       "<g id=\"edge10\" class=\"edge\">\n",
       "<title>9&#45;&gt;10</title>\n",
       "<path fill=\"none\" stroke=\"#000000\" d=\"M519.9808,-88.9777C517.6237,-80.5533 515.0888,-71.4934 512.7007,-62.9579\"/>\n",
       "<polygon fill=\"#000000\" stroke=\"#000000\" points=\"516.0491,-61.9356 509.984,-53.2485 509.308,-63.8217 516.0491,-61.9356\"/>\n",
       "</g>\n",
       "<!-- 11 -->\n",
       "<g id=\"node12\" class=\"node\">\n",
       "<title>11</title>\n",
       "<polygon fill=\"none\" stroke=\"#000000\" points=\"667.5,-53 569.5,-53 569.5,0 667.5,0 667.5,-53\"/>\n",
       "<text text-anchor=\"middle\" x=\"618.5\" y=\"-37.8\" font-family=\"Times,serif\" font-size=\"14.00\" fill=\"#000000\">gini = 0.165</text>\n",
       "<text text-anchor=\"middle\" x=\"618.5\" y=\"-22.8\" font-family=\"Times,serif\" font-size=\"14.00\" fill=\"#000000\">samples = 11</text>\n",
       "<text text-anchor=\"middle\" x=\"618.5\" y=\"-7.8\" font-family=\"Times,serif\" font-size=\"14.00\" fill=\"#000000\">value = [10, 1]</text>\n",
       "</g>\n",
       "<!-- 9&#45;&gt;11 -->\n",
       "<g id=\"edge11\" class=\"edge\">\n",
       "<title>9&#45;&gt;11</title>\n",
       "<path fill=\"none\" stroke=\"#000000\" d=\"M560.8781,-88.9777C569.3234,-79.8207 578.4611,-69.9129 586.9175,-60.744\"/>\n",
       "<polygon fill=\"#000000\" stroke=\"#000000\" points=\"589.6236,-62.9723 593.8304,-53.2485 584.4779,-58.2266 589.6236,-62.9723\"/>\n",
       "</g>\n",
       "<!-- 13 -->\n",
       "<g id=\"node14\" class=\"node\">\n",
       "<title>13</title>\n",
       "<polygon fill=\"none\" stroke=\"#000000\" points=\"777.5,-53 685.5,-53 685.5,0 777.5,0 777.5,-53\"/>\n",
       "<text text-anchor=\"middle\" x=\"731.5\" y=\"-37.8\" font-family=\"Times,serif\" font-size=\"14.00\" fill=\"#000000\">gini = 0.444</text>\n",
       "<text text-anchor=\"middle\" x=\"731.5\" y=\"-22.8\" font-family=\"Times,serif\" font-size=\"14.00\" fill=\"#000000\">samples = 3</text>\n",
       "<text text-anchor=\"middle\" x=\"731.5\" y=\"-7.8\" font-family=\"Times,serif\" font-size=\"14.00\" fill=\"#000000\">value = [1, 2]</text>\n",
       "</g>\n",
       "<!-- 12&#45;&gt;13 -->\n",
       "<g id=\"edge13\" class=\"edge\">\n",
       "<title>12&#45;&gt;13</title>\n",
       "<path fill=\"none\" stroke=\"#000000\" d=\"M731.5,-88.9777C731.5,-80.7364 731.5,-71.887 731.5,-63.5153\"/>\n",
       "<polygon fill=\"#000000\" stroke=\"#000000\" points=\"735.0001,-63.2484 731.5,-53.2485 728.0001,-63.2485 735.0001,-63.2484\"/>\n",
       "</g>\n",
       "<!-- 14 -->\n",
       "<g id=\"node15\" class=\"node\">\n",
       "<title>14</title>\n",
       "<polygon fill=\"none\" stroke=\"#000000\" points=\"893.5,-53 795.5,-53 795.5,0 893.5,0 893.5,-53\"/>\n",
       "<text text-anchor=\"middle\" x=\"844.5\" y=\"-37.8\" font-family=\"Times,serif\" font-size=\"14.00\" fill=\"#000000\">gini = 0.0</text>\n",
       "<text text-anchor=\"middle\" x=\"844.5\" y=\"-22.8\" font-family=\"Times,serif\" font-size=\"14.00\" fill=\"#000000\">samples = 84</text>\n",
       "<text text-anchor=\"middle\" x=\"844.5\" y=\"-7.8\" font-family=\"Times,serif\" font-size=\"14.00\" fill=\"#000000\">value = [84, 0]</text>\n",
       "</g>\n",
       "<!-- 12&#45;&gt;14 -->\n",
       "<g id=\"edge14\" class=\"edge\">\n",
       "<title>12&#45;&gt;14</title>\n",
       "<path fill=\"none\" stroke=\"#000000\" d=\"M771.3396,-88.9777C782.3839,-79.546 794.361,-69.3178 805.3648,-59.9208\"/>\n",
       "<polygon fill=\"#000000\" stroke=\"#000000\" points=\"807.8464,-62.4041 813.1779,-53.2485 803.3006,-57.081 807.8464,-62.4041\"/>\n",
       "</g>\n",
       "</g>\n",
       "</svg>\n"
      ],
      "text/plain": [
       "<graphviz.files.Source at 0x7f4e0b3b46d8>"
      ]
     },
     "metadata": {},
     "output_type": "display_data"
    }
   ],
   "source": [
    "graphviz:.p.import`graphviz\n",
    "exportgraphviz:.p.import[`sklearn.tree;`:export_graphviz]\n",
    "dotdata:exportgraphviz[classifier;`out_file pykw (::);`feature_names pykw featnames]\n",
    "graph:graphviz[`:Source]dotdata\n",
    "display graph"
   ]
  },
  {
   "cell_type": "markdown",
   "metadata": {},
   "source": [
    "The decision tree classifier produces a highly interpretable model which can be visualized and understood even by non-technical people.\n",
    "\n",
    "The algorithm finds the best tree by following a *greedy* strategy.  \n",
    "It first finds the feature (mean concave points) and split value (0.052) that most effectively partitions the data.  \n",
    "\n",
    "This divides the dataset of 284 samples into two subsets of 176 samples and 108 samples.\n",
    "- Of the 176 samples, 7 (4%) are malignant and 169 (96%) are benign.\n",
    "- Of the 108 samples, 95 (88%) are malignant and 13 (12%) are benign.\n",
    "\n",
    "So even one split value can provide a very powerful and predictive split between the classification labels.\n",
    "\n",
    "The algorithm continues splitting the dataset at each node, by finding the feature and split value that most effectively partitions the benign from the malignant samples."
   ]
  },
  {
   "cell_type": "markdown",
   "metadata": {},
   "source": [
    "### Evaluate model"
   ]
  },
  {
   "cell_type": "markdown",
   "metadata": {},
   "source": [
    "The output of the decision tree is a class assignment.\n",
    "\n",
    "We take a previously unseen sample and pass it through the decision tree. Following the appropriate branch at each split (based on the feature values of the test point), we eventually end up at a *leaf node*, at the bottom of the tree. At this point, we assign the test point the class value of the majority of the test examples included in that leaf.\n",
    "\n",
    "We can therefore evaluate the performance of the decision tree, on the held-out test data. "
   ]
  },
  {
   "cell_type": "code",
   "execution_count": 6,
   "metadata": {},
   "outputs": [
    {
     "name": "stdout",
     "output_type": "stream",
     "text": [
      "Performance of the classifier\n",
      "log loss: 1.069679, accuracy: 0.9508772\n"
     ]
    }
   ],
   "source": [
    "yprob:classifier[`:predict_proba;<]datadict.xtest\n",
    "ypred:raze{$[2=count x;1?;]x}each{x?max x}each yprob\n",
    "dtloss:logloss[datadict.ytest;yprob]\n",
    "dtacc:accuracy[datadict.ytest;ypred]\n",
    "\n",
    "-1\"Performance of the classifier\";\n",
    "-1\"log loss: \",(string dtloss),\", accuracy: \",string dtacc;"
   ]
  },
  {
   "cell_type": "markdown",
   "metadata": {},
   "source": [
    "The decision tree classifier achieves 95% accuracy on the test set, a strong performance from such a simple classifier."
   ]
  },
  {
   "cell_type": "markdown",
   "metadata": {},
   "source": [
    "### Confusion matrix\n",
    "\n",
    "\n",
    "With a Confusion Matrix, we can inspect the interaction between\n",
    "- True positives\n",
    "- True negatives\n",
    "- False positives\n",
    "- False negatives"
   ]
  },
  {
   "cell_type": "code",
   "execution_count": 7,
   "metadata": {
    "scrolled": false
   },
   "outputs": [
    {
     "name": "stdout",
     "output_type": "stream",
     "text": [
      "0| 100 4  \n",
      "1| 10  171\n"
     ]
    },
    {
     "data": {
      "image/png": "[encoded data removed]",
      "text/plain": [
       "<matplotlib.figure.Figure at 0x7f4df924ac18>"
      ]
     },
     "metadata": {},
     "output_type": "display_data"
    }
   ],
   "source": [
    "show cnfM:cfm[datadict.ytest;ypred]\n",
    "displayCM[value cnfM;`malignant`benign;\"Test Set Confusion Matrix\";()]"
   ]
  },
  {
   "cell_type": "markdown",
   "metadata": {},
   "source": [
    "The classifier has\n",
    "\n",
    "```True Positive Rate  TPR = TP/(TP+FN) = 100/(100+4)   = 96%\n",
    "False Positive Rate FPR = FP/(FP+TN) = 10/(10+172) =  5%```\n",
    "\n",
    "n.b. We are using _positive_ here to denote the malignant case, which actually has the label 0, rather than 1, in the Wisconsin dataset."
   ]
  },
  {
   "cell_type": "markdown",
   "metadata": {},
   "source": [
    "### ROC curve\n",
    "Rather than using a _majority vote_ system, we could use a threshold other than 50% for assigning the points to classes at the leaf node.  \n",
    "- By modifying the threshold in favour of a _malignant_ diagnosis, we would increase the true positive rate, but would also increase the false positive rate.  \n",
    "- By modifying the threshold in favour of a _benign_ diagnosis, we would decrease the false positive rate, but would also decrease the true positive rate.  \n",
    "\n",
    "The realtionship between the true positive rate (sensitivity) and the false positive rate, is captured in the Receiver Operating Characteristic (ROC) curve.\n",
    "\n",
    "n.b. 1 - FPR is called the _specificity_ of the model. We therefore have a trade-off between _sensitivity_ and _specificity_.\n",
    "\n",
    "The area under the curve (AUC) is interpreted as the probability that a classifier will rank a randomly chosen _positive_ instance higher than a randomly chosen _negative_ one.\n",
    "\n",
    "The optimal classifier would have a false positive rate of 0 and a true positive rate of 1, giving a an AUC curve of 1."
   ]
  },
  {
   "cell_type": "code",
   "execution_count": 8,
   "metadata": {},
   "outputs": [
    {
     "data": {
      "image/png": "[encoded data removed]",
      "text/plain": [
       "<matplotlib.figure.Figure at 0x7f4df0f8c5c0>"
      ]
     },
     "metadata": {},
     "output_type": "display_data"
    }
   ],
   "source": [
    "yprob:classifier[`:predict_proba;X]`\n",
    "displayROCcurve[y;yprob[;1]]"
   ]
  },
  {
   "cell_type": "markdown",
   "metadata": {},
   "source": [
    " With an AUC of 0.96, our classifier is close to optimal."
   ]
  }
 ],
 "metadata": {
  "kernelspec": {
   "display_name": "Q 3.5",
   "language": "q",
   "name": "qpk"
  },
  "language_info": {
   "file_extension": ".q",
   "mimetype": "text/x-q",
   "name": "q",
   "version": "3.5.0"
  }
 },
 "nbformat": 4,
 "nbformat_minor": 2
}
