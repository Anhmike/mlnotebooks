{
 "cells": [
  {
   "cell_type": "markdown",
   "metadata": {},
   "source": [
    "## Machine Learning Demonstration- NLP\n",
    "\n",
    "\n",
    "## Requirements\n",
    "You can download the NLP library from https://code.kx.com/q/ml/ and is required to be located in QHOME.\n",
    "\n",
    "The following python packages are required to run this notebook:\n",
    "  1. beautifulsoup4: ``` pip install beatifulsoup4 ```\n",
    "  2. spacy: ```pip install -U spacy```\n",
    "  3. numpy: ```pip install numpy```\n",
    "  \n",
    "You also need to run this line in the terminal to download the English model :  ``` python -m spacy download en ```\n",
    "\n",
    "### Natural language processing\n",
    "Natural language processing (NLP) can be used to answer a variety of questions about unstructured text data, as well as facilitating open-ended exploration. It can be applied to datasets such as emails, online articles and comments, tweets, or novels. Although the source is text, transformations are applied to convert this data to vectors, dictionaries and symbols which can be handled very effectively by q. Many operations such as searching, clustering, and keyword extraction can all be done using very simple data structures, such as feature vectors."
   ]
  },
  {
   "cell_type": "markdown",
   "metadata": {},
   "source": [
    "### Preparing text\n",
    "\n",
    "In natural language processing, a collection of documents is called a corpus, with the plural being corpora.\n",
    "Text often comes with associated metadata. For e-mails, this could be the sender and receivers, the date sent, and any labels applied. For online comments, this could include a user name, rating, and URL. As these are often relevant to the analysis, it is convenient to store the plain text and metadata together in a table, with a row for every document, where a document could be as simple as a tweet or text message.\n",
    "\n",
    "Once the plain text has been retrieved, operations common to many higher-level NLP operations can be done. These operations include tokenization, sentence detection, part-of-speech recognition, parsing, named entity recognition, and sentiment analysis.\n",
    "\n",
    "* Tokenization - This operation splits the the input into words, or similar tokens (e.g. John’s > John is one token and ‘s is another token.)\n",
    "* Sentence detection - Gives the indices at which the sentences start and end\n",
    "* Part of speech tagger - Parses the sentences into tokens and gives each token a given label (e.g. lemma, pos, tag, etc.) Penn Treebank and Universal tags are both supported: http://universaldependencies.org/u/pos/\n",
    "* Lemmatization  - Normalizes words to their base form (e.g. \"ran\" to \"run\")\n",
    "* Sentiment analysis - Using a prebuilt model of the degrees of positive and negative sentiment for English words and emoticons, as well as parsing to account for negation, adverbs and other modifiers, sentences can be scored for their negative, positive and neutral sentiment."
   ]
  },
  {
   "cell_type": "code",
   "execution_count": 1,
   "metadata": {},
   "outputs": [
    {
     "name": "stdout",
     "output_type": "stream",
     "text": [
      "Loading utils.q\n",
      "Loading regex.q\n",
      "Loading sent.q\n",
      "Loading parser.q\n",
      "Loading time.q\n",
      "Loading date.q\n",
      "Loading email.q\n",
      "Loading cluster.q\n",
      "Loading nlp.q\n"
     ]
    }
   ],
   "source": [
    "/loading in the NLP library\n",
    "\\l nlp/init.q"
   ]
  },
  {
   "cell_type": "markdown",
   "metadata": {
    "collapsed": true
   },
   "source": [
    "## Loading in the dataset\n",
    "\n",
    "The following sections analyze the text of Moby-Dick, which can be downloaded from https://www.gutenberg.org/files/2701/2701-h/2701-h.htm\n",
    "\n",
    "> \"Moby-Dick; or, The Whale is an 1851 novel by American writer Herman Melville. The book is sailor Ishmael's narrative of the obsessive quest of Ahab, captain of the whaling ship Pequod, for revenge on Moby Dick, the white whale that on the ship's previous voyage bit off Ahab's leg at the knee.\" - https://en.wikipedia.org/wiki/Moby-Dick. "
   ]
  },
  {
   "cell_type": "code",
   "execution_count": 2,
   "metadata": {
    "collapsed": true
   },
   "outputs": [],
   "source": [
    "text: \"\\n\" sv read0 `:../data/mobydick.txt;\n",
    "removeBadNewlines:{@[x;1+(raze string x = \"\\n\") ss \"010\"; :; \" \"]};\n",
    "mobyDick:(text ss \"CHAPTER \") cut removeBadNewlines text"
   ]
  },
  {
   "cell_type": "markdown",
   "metadata": {},
   "source": [
    "### Parsing the dataset\n",
    "\n",
    "The following options are available for .nlp.newParser:\n",
    "\n",
    "field    | content\n",
    "---------|------------------------------------------------------------------\n",
    "`text    | The original word text, returns a list of characters\n",
    "`tokens  | The tokenized text,returns a list of symbols\n",
    "`sentChars| Indices of start and end of sentences, returns a list of lists of longs\n",
    "`sentIndices| Indices of the first token of each sentences, returns a list of integers\n",
    "`pennPOS | The Penn Treebank tagset,returns a list of symbols\n",
    "`uniPOS | The Universal tagset, returns a list of symbols\n",
    "`lemmas | The base form of the word, returns a list of symbols\n",
    "`isStop | Is the token part of the stop list? returns a boolean\n",
    "`likeEmail| Does the token resembles an email ? returns a boolean\n",
    "`likeURL| Does the token resembles a URL ? returns a boolean\n",
    "`likeNumber| Does the token resembles a number ? returns a boolean\n",
    "`keywords| the significance of each term, returns a list of dictionaries\n",
    "`starts| Index that a token starts at, returns a long\n"
   ]
  },
  {
   "cell_type": "code",
   "execution_count": 3,
   "metadata": {
    "collapsed": true
   },
   "outputs": [],
   "source": [
    "/ Creates a parsed table  \n",
    "myparser:.nlp.newParser[`en;`text`tokens`lemmas`pennPOS`isStop`sentChars`starts`sentIndices`keywords] \n",
    "corpus:myparser mobyDick"
   ]
  },
  {
   "cell_type": "code",
   "execution_count": 4,
   "metadata": {},
   "outputs": [
    {
     "name": "stdout",
     "output_type": "stream",
     "text": [
      "CHAPTER 1\n",
      "\n",
      "  Loomings\n",
      "\n",
      "\n",
      "\n",
      "Call me Ishmael.  Some years ago--never mind how long precisely-- having little or no money in my purse, and nothing particular to interest me on shore, I thought I would sail about a little and see the watery part of the world.  It is a way I have of driving off the spleen and regulating the circulation. Whenever I find myself growing grim about the mouth; whenever it is a damp, drizzly November in my soul; whenever I find myself involuntarily pausing before coffin warehouses, and bringing up the rear of every funeral I meet; and especially whenever my hypos get such an upper hand of me, that it requires a strong moral principle to prevent me from deliberately stepping into the street, and methodically knocking people's hats off--then, I account it high time to get to sea as soon as I can.  This is my substitute for pistol and ball. With a philosophical flourish Cato throws himself upon his sword; I quietly take to the ship.  There is nothing surprising in this. If they but knew it, almost all men in their degree, some time or other, cherish very nearly the same feelings towards the ocean with me.\n",
      "\n",
      "There now is your insular city of the Manhattoes, belted round by wharves as Indian isles by coral reefs--commerce surrounds it with her surf. Right and left, the streets take you waterward.  Its extreme downtown is the battery, where that noble mole is washed by waves, and cooled by breezes, which a few hours previous were out of sight of land. Look at the crowds of water-gazers there.\n",
      "\n",
      "Circumambulate the city of a dreamy Sabbath afternoon.  Go from Corlears Hook to Coenties Slip, and from thence, by Whitehall, northward. What do you see?--Posted like silent sentinels all around the town, stand thousands upon thousands of mortal men fixed in ocean reveries. Some leaning against the spiles; some seated upon the pier-heads; some looking over the bulwarks glasses! of ships from China; some high aloft in the rigging, as if striving to get a still better seaward peep. But these are all landsmen; of week days pent up in lath and plaster-- tied to counters, nailed to benches, clinched to desks. How then is this?  Are the green fields gone?  What do they here?\n",
      "\n",
      "But look! here come more crowds, pacing straight for the water, and seemingly bound for a dive.  Strange!  Nothing will content them but the extremest limit of the land; loitering under the shady lee of yonder warehouses will not suffice.  No. They must get just as nigh the water as they possibly can without falling in. And there they stand--miles of them--leagues.  Inlanders all, they come from lanes and alleys, streets and avenues,-- north, east, south, and west.  Yet here they all unite. Tell me, does the magnetic virtue of the needles of the compasses of all those ships attract them thither?\n",
      "\n",
      "Once more.  Say you are in the country; in some high land of lakes. Take almost any path you please, and ten to one it carries you down in a dale, and leaves you there by a pool in the stream. There is magic in it.  Let the most absent-minded of men be plunged in his deepest reveries--stand that man on his legs, set his feet a-going, and he will infallibly lead you to water, if water there be in all that region.  Should you ever be athirst in the great American desert, try this experiment, if your caravan happen to be supplied with a metaphysical professor. Yes, as every one knows, meditation and water are wedded for ever.\n",
      "\n",
      "But here is an artist.  He desires to paint you the dreamiest, shadiest, quietest, most enchanting bit of romantic landscape in all the valley of the Saco.  What is the chief element he employs? There stand his trees, each with a hollow trunk, as if a hermit and a crucifix were within; and here sleeps his meadow, and there sleep his cattle; and up from yonder cottage goes a sleepy smoke. Deep into distant woodlands winds a mazy way, reaching to overlapping spurs of mountains bathed in their hill-side blue.  But though the picture lies thus tranced, and though this pine-tree shakes down its sighs like leaves upon this shepherd's head, yet all were vain, unless the shepherd's eye were fixed upon the magic stream before him. Go visit the Prairies in June, when for scores on scores of miles you wade knee-deep among Tiger-lilies--what is the one charm wanting?-- Water there is not a drop of water there!  Were Niagara but a cataract of sand, would you travel your thousand miles to see it? Why did the poor poet of Tennessee, upon suddenly receiving two handfuls of silver, deliberate whether to buy him a coat, which he sadly needed, or invest his money in a pedestrian trip to Rockaway Beach?  Why is almost every robust healthy boy with a robust healthy soul in him, at some time or other crazy to go to sea?  Why upon your first voyage as a passenger, did you yourself feel such a mystical vibration, when first told that you and your ship were now out of sight of land? Why did the old Persians hold the sea holy?  Why did the Greeks give it a separate deity, and own brother of Jove?  Surely all this is not without meaning.  And still deeper the meaning of that story of Narcissus, who because he could not grasp the tormenting, mild image he saw in the fountain, plunged into it and was drowned. But that same image, we ourselves see in all rivers and oceans. It is the image of the ungraspable phantom of life; and this is the key to it all.\n",
      "\n",
      "Now, when I say that I am in the habit of going to sea whenever I begin to grow hazy about the eyes, and begin to be over conscious of my lungs, I do not mean to have it inferred that I ever go to sea as a passenger. For to go as a passenger you must needs have a purse, and a purse is but a rag unless you have something in it.  Besides, passengers get sea-sick-- grow quarrelsome--don't sleep of nights--do not enjoy themselves much, as a general thing;--no, I never go as a passenger; nor, though I am something of a salt, do I ever go to sea as a Commodore, or a Captain, or a Cook.  I abandon the glory and distinction of such offices to those who like them.  For my part, I abominate all honorable respectable toils, trials, and tribulations of every kind whatsoever. It is quite as much as I can do to take care of myself, without taking care of ships, barques, brigs, schooners, and what not.  And as for going as cook,--though I confess there is considerable glory in that, a cook being a sort of officer on ship-board--yet, somehow, I never fancied broiling fowls;--though once broiled, judiciously buttered, and judgmatically salted and peppered, there is no one who will speak more respectfully, not to say reverentially, of a broiled fowl than I will. It is out of the idolatrous dotings of the old Egyptians upon broiled ibis and roasted river horse, that you see the mummies of those creatures in their huge bakehouses the pyramids.\n",
      "\n",
      "No, when I go to sea, I go as a simple sailor, right before the mast, plumb down into the fore-castle, aloft there to the royal mast-head. True, they rather order me about some, and make me jump from spar to spar, like a grasshopper in a May meadow. And at first, this sort of thing is unpleasant enough. It touches one's sense of honor, particularly if you come of an old established family in the land, the Van Rensselaers, or Randolphs, or Hardicanutes.  And more than all, if just previous to putting your hand into the tar-pot, you have been lording it as a country schoolmaster, making the tallest boys stand in awe of you.  The transition is a keen one, I assure you, from a schoolmaster to a sailor, and requires a strong decoction of Seneca and the Stoics to enable you to grin and bear it. But even this wears off in time.\n",
      "\n",
      "What of it, if some old hunks of a sea-captain orders me to get a broom and sweep down the decks?  What does that indignity amount to, weighed, I mean, in the scales of the New Testament?  Do you think the archangel Gabriel thinks anything the less of me, because I promptly and respectfully obey that old hunks in that particular instance? Who ain't a slave?  Tell me that.  Well, then, however the old sea-captains may order me about--however they may thump and punch me about, I have the satisfaction of knowing that it is all right; that everybody else is one way or other served in much the same way-- either in a physical or metaphysical point of view, that is; and so the universal thump is passed round, and all hands should rub each other's shoulder-blades, and be content.\n",
      "\n",
      "Again, I always go to sea as a sailor, because they make a point of paying me for my trouble, whereas they never pay passengers a single penny that I ever heard of. On the contrary, passengers themselves must pay.  And there is all the difference in the world between paying and being paid. The act of paying is perhaps the most uncomfortable infliction that the two orchard thieves entailed upon us.  But being paid,-- what will compare with it?  The urbane activity with which a man receives money is really marvellous, considering that we so earnestly believe money to be the root of all earthly ills, and that on no account can a monied man enter heaven. Ah! how cheerfully we consign ourselves to perdition!\n",
      "\n",
      "Finally, I always go to sea as a sailor, because of the wholesome exercise and pure air of the fore-castle deck. For as in this world, head winds are far more prevalent than winds from astern (that is, if you never violate the Pythagorean maxim), so for the most part the Commodore on the quarter-deck gets his atmosphere at second hand from the sailors on the forecastle. He thinks he breathes it first; but not so.  In much the same way do the commonalty lead their leaders in many other things, at the same time that the leaders little suspect it. But wherefore it was that after having repeatedly smelt the sea as a merchant sailor, I should now take it into my head to go on a whaling voyage; this the invisible police officer of the Fates, who has the constant surveillance of me, and secretly dogs me, and influences me in some unaccountable way-- he can better answer than any one else.  And, doubtless, my going on this whaling voyage, formed part of the grand programme of Providence that was drawn up a long time ago. It came in as a sort of brief interlude and solo between more extensive performances.  I take it that this part of the bill must have run something like this:\n",
      "\n",
      "\n",
      "  \"Grand Contested Election for the Presidency of the United States.                  \"WHALING VOYAGE BY ONE ISHMAEL.\"                  \"BLOODY BATTLE IN AFFGHANISTAN.\"\n",
      "\n",
      "\n",
      "Though I cannot tell why it was exactly that those stage managers, the Fates, put me down for this shabby part of a whaling voyage, when others were set down for magnificent parts in high tragedies, and short and easy parts in genteel comedies, and jolly parts in farces-- though I cannot tell why this was exactly; yet, now that I recall all the circumstances, I think I can see a little into the springs and motives which being cunningly presented to me under various disguises, induced me to set about performing the part I did, besides cajoling me into the delusion that it was a choice resulting from my own unbiased freewill and discriminating judgment.\n",
      "\n",
      "Chief among these motives was the overwhelming idea of the great whale himself.  Such a portentous and mysterious monster roused all my curiosity.  Then the wild and distant seas where he rolled his island bulk; the undeliverable, nameless perils of the whale; these, with all the attending marvels of a thousand Patagonian sights and sounds, helped to sway me to my wish. With other men, perhaps, such things would not have been inducements; but as for me, I am tormented with an everlasting itch for things remote. I love to sail forbidden seas, and land on barbarous coasts. Not ignoring what is good, I am quick to perceive a horror, and could still be social with it--would they let me--since it is but well to be on friendly terms with all the inmates of the place one lodges in.\n",
      "\n",
      "By reason of these things, then, the whaling voyage was welcome; the great flood-gates of the wonder-world swung open, and in the wild conceits that swayed me to my purpose, two and two there floated into my inmost soul, endless processions of the whale, and, mid most of them all, one grand hooded phantom, like a snow hill in the air.\n",
      "\n",
      "\n",
      "\n",
      "\n"
     ]
    }
   ],
   "source": [
    "/ Prints the first chapter\n",
    "-1 corpus[0]`text;"
   ]
  },
  {
   "cell_type": "markdown",
   "metadata": {},
   "source": [
    "### Exploratory Analysis\n",
    "\n",
    "We find for all the proper nouns in the first chapter. .nlp.findPOSRuns finds runs of consecutive tokens whose part of speech is in the set passed in. "
   ]
  },
  {
   "cell_type": "code",
   "execution_count": 5,
   "metadata": {},
   "outputs": [
    {
     "data": {
      "text/plain": [
       "`loomings`ishmael`november`cato`manhattoes`circumambulate`sabbath`go`corlears hook`coenties`white..\n"
      ]
     },
     "execution_count": 5,
     "metadata": {},
     "output_type": "execute_result"
    }
   ],
   "source": [
    "\\c 30 100\n",
    "/ Find all runs of proper nouns in the first document\n",
    "/ Take only the first value of each pair to omit the token's position\n",
    ".nlp.findPOSRuns[`pennPOS;`NNP`NNPS;corpus 0][;0]"
   ]
  },
  {
   "cell_type": "markdown",
   "metadata": {},
   "source": [
    "## Feature vectors\n",
    "Feature vectors are dictionaries of terms and their associated weights. The values associated with each term in a feature vector are how significant that term is as a descriptor of the entity. The significance of the word is calculated by comparing the frequency of the word in that document compared to the rest of the corpus.\n",
    "\n",
    "As this is a book, we treat this dataset as a single document other than a collection of documents, we use the keywordsContinuous function to find the most significant words."
   ]
  },
  {
   "cell_type": "code",
   "execution_count": 6,
   "metadata": {},
   "outputs": [
    {
     "name": "stdout",
     "output_type": "stream",
     "text": [
      "ahab     | 65.23191\n",
      "peleg    | 52.21875\n",
      "bildad   | 46.56072\n",
      "whale    | 42.72953\n",
      "stubb    | 38.11739\n",
      "queequeg | 35.34769\n",
      "steelkilt| 33.96713\n",
      "pip      | 32.90067\n",
      "starbuck | 32.05286\n",
      "thou     | 32.05231\n"
     ]
    }
   ],
   "source": [
    "show 10#keywords:.nlp.keywordsContinuous corpus"
   ]
  },
  {
   "cell_type": "markdown",
   "metadata": {},
   "source": [
    "We can see the terms that occur the most are the names of the three captians on a boat and \"whale\". Below we plot the occurrences per chapter of the top 10 keywords in Moby Dick reveals a discontinuity from chapters 32 to 45, which are an aside discussing whale biology.\n"
   ]
  },
  {
   "cell_type": "code",
   "execution_count": 7,
   "metadata": {},
   "outputs": [
    {
     "name": "stdout",
     "output_type": "stream",
     "text": [
      "term chapter occurences\n",
      "-----------------------\n",
      "ahab 0       0         \n",
      "ahab 1       0         \n",
      "ahab 2       0         \n",
      "ahab 3       0         \n",
      "ahab 4       0         \n"
     ]
    }
   ],
   "source": [
    "/creating a table with the average occurence of the top 10 keywords in each chapter\n",
    "show 5#tab:raze{([]term:x;chapter:til count corpus;occurences:5 mavg sum each corpus[`tokens]=x)}each key 10#keywords"
   ]
  },
  {
   "cell_type": "code",
   "execution_count": 8,
   "metadata": {},
   "outputs": [
    {
     "data": {
      "image/png": "[encoded data removed]",
      "text/plain": [
       "<matplotlib.figure.Figure at 0x7fd129acc390>"
      ]
     },
     "metadata": {},
     "output_type": "display_data"
    }
   ],
   "source": [
    "/Plots the occurence of the top terms per chapter\n",
    "plt:.p.import[`matplotlib.pyplot]\n",
    "plt[`:figure][`figsize pykw 20 10];\n",
    "{a:exec chapter from tab where term=x;b:exec occurences from tab where term=x;plt[`:plot][a;b];}each key 10#keywords; \n",
    "\n",
    "plt[`:title][\"The occurences per chapter of the top 10 keywords\"];\n",
    "plt[`:ylabel]`Occurences;\n",
    "plt[`:xlabel]`Chapter;\n",
    "plt[`:legend][key 10#keywords;`loc pykw \"upper left\"];\n",
    "plt[`:show][];"
   ]
  },
  {
   "cell_type": "markdown",
   "metadata": {},
   "source": [
    "### Calculating feature vectors for words\n",
    "\n",
    "The feature vector for a word can be calculated as a collection of how well other words predict the given keyword. The weight given to these words is a function of how much higher the actual co-occurrence rate is from the expected co-occurrence rate the terms would have if they were randomly distributed.\n",
    "\n",
    ".nlp.findRelatedTerms finds terms that have occured in the same sentence as the queried word. It returns a dictionary of each related term and their z-score in a descending order. A large z-score indicates that the term occured more frequently than if the term was randomly distributed in the corpus. \n"
   ]
  },
  {
   "cell_type": "code",
   "execution_count": 9,
   "metadata": {},
   "outputs": [
    {
     "data": {
      "text/plain": [
       "peleg | 1.653247\n",
       "bildad| 1.326868\n",
       "ahab  | 1.232073\n",
       "ship  | 1.158671\n",
       "cabin | 0.9743517\n"
      ]
     },
     "execution_count": 9,
     "metadata": {},
     "output_type": "execute_result"
    }
   ],
   "source": [
    "/finding words that relate to captain\n",
    "5#.nlp.findRelatedTerms[corpus;`captain]"
   ]
  },
  {
   "cell_type": "markdown",
   "metadata": {},
   "source": [
    "## Finding related phrases\n",
    "\n",
    "Phrases can be found by looking for runs of words with an above average significance to the query term. "
   ]
  },
  {
   "cell_type": "code",
   "execution_count": 10,
   "metadata": {},
   "outputs": [
    {
     "data": {
      "text/plain": [
       "`captain`ahab      | 48\n",
       "`captain`peleg     | 20\n",
       "`captain`bildad    | 10\n",
       "`captain`sleet     | 6\n",
       "`stranger`captain  | 6\n",
       "`sea`captain       | 3\n",
       "`captain`pollard   | 3\n",
       "`whaling`captain   | 2\n",
       "`captain`peleg`said| 2\n",
       "`captain`ahab`stood| 2\n",
       "`captain`ahab`said | 2\n",
       "`captain`stood     | 2\n",
       "`captain`d'wolf    | 2\n",
       "`captain`mayhew    | 2\n",
       "`way`captain       | 2\n",
       "`captain`boomer    | 2\n"
      ]
     },
     "execution_count": 10,
     "metadata": {},
     "output_type": "execute_result"
    }
   ],
   "source": [
    "/ \"captain ahab\" is the phrase releated to captain that occurs the most in this corpus\n",
    ".nlp.extractPhrases[corpus;`captain]"
   ]
  },
  {
   "cell_type": "markdown",
   "metadata": {},
   "source": [
    " # NLP applied to the Enron dataset \n",
    " \n",
    "The Enron email dataset is one of the few if not the only large publicly available dataset of corporate emails. Made available after the Enron trial, it includes the emails of many employees, including c-suite individuals such as former Enron CEOs Jeffrey Skilling and Ken Lay, whose emails will be investigated this in this paper.\n",
    "\n",
    "These datasets can be found at https://www.cs.cmu.edu/~enron/ \n"
   ]
  },
  {
   "cell_type": "code",
   "execution_count": 11,
   "metadata": {
    "collapsed": true
   },
   "outputs": [],
   "source": [
    "parseEnronEmail: {[email]\n",
    "    newlines: where email = \"\\n\";\n",
    "    \n",
    "    findTag: {[email; newlines; tag]\n",
    "        tag: \"\\n\" , tag , \":\";\n",
    "        tagStart: count[tag] + first email ss tag;\n",
    "        : $[null tagStart;\n",
    "            \"\";\n",
    "            [   tagEnd  : first newlines where tagStart < newlines;\n",
    "                trim tagStart _ tagEnd # email]];\n",
    "        }[email; newlines];\n",
    "    \n",
    "    : (!) . flip (\n",
    "         / Some dates are invalid, or 1979.12.31, both of which should be 0nd\n",
    "        (`date; {$[x~(); 0nd; x < 1980.01.01; 0nd; x]}first first .nlp.findDates findTag \"Date\");\n",
    "        (`time;first first .nlp.findTimes findTag \"Date\");\n",
    "        (`subject; findTag \"Subject\");\n",
    "        (`from; findTag \"From\");\n",
    "        (`to; findTag \"To\");\n",
    "        (`cc; findTag \"Cc\");\n",
    "        (`bcc; findTag \"Bcc\");\n",
    "        (`text; (2 + first email ss \"\\n\\n\") _ email));\n",
    "    };"
   ]
  },
  {
   "cell_type": "code",
   "execution_count": 12,
   "metadata": {
    "collapsed": true
   },
   "outputs": [],
   "source": [
    "loadEnronEmails:{[path]\n",
    "\n",
    "    // Import all the files in the directory\n",
    "    emails:parseEnronEmail each distinct .nlp.loadTextFromDir[path][`text];\n",
    "    \n",
    "    // These affect things like comparing documents/finding keywords\n",
    "    badTokens:.nlp.regex.compile[\"\\n((To|Subject|From|Sent):|=09|=\\\\?|ANSI| ---)[^\\n]*|\\\\[IMAGE\\\\]\"; 1b];\n",
    "    regex.replaceAll:{x[`:sub;<][y;z]};\n",
    "    emails[`text]:regex.replaceAll[badTokens; \"\";] each emails `text;\n",
    "    emails[`text]:(emails[`subject] ,\\: \"\\n\\n\") ,' emails `text;\n",
    "    \n",
    "    : emails;\n",
    "    };"
   ]
  },
  {
   "cell_type": "code",
   "execution_count": 13,
   "metadata": {
    "collapsed": true
   },
   "outputs": [],
   "source": [
    "myparser:.nlp.newParser[`en;`tokens`isStop`text`sentChars`sentIndices`keywords]\n",
    "\n",
    "/ Load and parse data\n",
    "jeffemails:distinct loadEnronEmails \"../data/enron/skilling-j\"\n",
    "jeffcorpus:myparser jeffemails[`text]\n",
    "\n",
    "/joining the original datasets and the corpus\n",
    "jefftable:jeffcorpus,'jeffemails"
   ]
  },
  {
   "cell_type": "code",
   "execution_count": 14,
   "metadata": {},
   "outputs": [
    {
     "name": "stdout",
     "output_type": "stream",
     "text": [
      "Loaded 3651 emails\n"
     ]
    },
    {
     "data": {
      "text/plain": [
       "7959\n"
      ]
     },
     "execution_count": 14,
     "metadata": {},
     "output_type": "execute_result"
    }
   ],
   "source": [
    "layemails:distinct loadEnronEmails\"../data/enron/lay-k\"\n",
    "-1 \"Loaded \",(string count layemails),\" emails\";\n",
    "\\t laycorpus:myparser layemails[`text]\n",
    "\n",
    "/joining the original datasets and the corpus\n",
    "laytable:laycorpus,'layemails"
   ]
  },
  {
   "cell_type": "markdown",
   "metadata": {},
   "source": [
    "### Comparing Corpora\n",
    "\n",
    "Enron CEO Jeff Skilling was a member of the Beta Theta Pi fraternity at Southern Methodist University (SMU). If we want to find secret fraternity code words used by the Betas, we can compare his fraternity emails (those containing “SMU” or “Betas”) to his other emails. \n",
    "\n",
    "Sorting terms by their affinity towards the fraternity corpus, the first unusual word, the 10th most polarized word, is “kai”, a greeting and sign-off used in fraternity emails. Also appearing near the top of this list are references to the fraternity’s “Eye of Wooglin” ritual."
   ]
  },
  {
   "cell_type": "markdown",
   "metadata": {},
   "source": [
    "* compareCorpora is based on the paper \"comparing corpora using frequency profiling\". Compares the number of occurences of each term between the two corpora. Gives two dictionaries of each terms affinity to each corpus."
   ]
  },
  {
   "cell_type": "code",
   "execution_count": 15,
   "metadata": {},
   "outputs": [
    {
     "data": {
      "text/plain": [
       "`beta`homecoming`betas`smu`yahoo`groups`tent`reunion`forget`-kai-`crowd`years`incredible`connected`biggest`ago`http://docs.yahoo.com/info/terms/`pick`stay`subject`left`far`consider`at`use\n"
      ]
     },
     "execution_count": 15,
     "metadata": {},
     "output_type": "execute_result"
    },
    {
     "data": {
      "text/plain": [
       "`enron`jeff`business`=`information`please`$`market`services`energy`management`713`the`company`we`1`this`questions`power`technology`companies`global`following`meeting`center\n"
      ]
     },
     "execution_count": 15,
     "metadata": {},
     "output_type": "execute_result"
    }
   ],
   "source": [
    "\\c 30 200\n",
    "fraternity:jeffcorpus i:where (jeffcorpus[`text] like \"*Betas*\")|jeffcorpus[`text] like \"*SMU*\"\n",
    "remaining:jeffcorpus til[count jeffcorpus]except i\n",
    "summaries:key each 25#/:.nlp.compareCorpora[fraternity;remaining]\n",
    "/ summary of the fraternity corpus\n",
    "summaries 0\n",
    "/summary of the remaining corpus\n",
    "summaries 1"
   ]
  },
  {
   "cell_type": "markdown",
   "metadata": {},
   "source": [
    "### Calculating feature vectors for documents\n",
    "\n",
    "The values associated with each term in a feature vector are how significant that term is as a descriptor of the entity. For documents, this can be calculated by comparing the frequency of words in that document to the frequency of words in the rest of the corpus. The intuition which is formalized mathematically is that any term which has a uniform distribution in the corpus will be insignificant, whereas those which appear in clusters will be more significant. The frequency of the term is also a contributing factor to the significance. Thus, any term which is both frequent and clustered will be more significant than those which are infrequent or uniformly distributed. Describing documents this way is a very fast operation and, when run on e-mail length documents, has a throughput of tens of thousands of documents per second.\n",
    "\n",
    "\n",
    "Sorting the terms in a feature vector by their significance, you get the keywords that distinguish a document most from the corpus, forming a terse summary of the document. This shows a the most significant terms in the feature vector for one of Enron CEO Jeff Skilling’s email’s describing an advertiment for ready2go."
   ]
  },
  {
   "cell_type": "code",
   "execution_count": 16,
   "metadata": {
    "collapsed": true
   },
   "outputs": [],
   "source": [
    "ready2go:first where jeffcorpus[`text] like \"Ready2Go*\""
   ]
  },
  {
   "cell_type": "code",
   "execution_count": 17,
   "metadata": {},
   "outputs": [
    {
     "name": "stdout",
     "output_type": "stream",
     "text": [
      "Ready2Go\n",
      "\n",
      "Are you Ready2Go ?\n",
      "\n",
      "Have you ever experienced problems accessing the network remotely when traveling on business or when trying to work from home on your Enron laptop?  Would you like someone to test and customize the dial-up access on your laptop before you head out of town on your next trip? \n",
      "\n",
      "We have identified a need and are now supplying a new service for Corp and EBS employees and it's called Ready2Go !\n",
      "\n",
      "This new service has been established to test, modify, and update the dial-up software on your laptop.\n",
      "\n",
      "How it works:\n",
      "\n",
      "A calendar has been created on ITCentral at <http://itcentral.enron.com/Data/Services/Ready2Go>\n",
      "\n",
      "Go to the site and schedule a time that is convenient for you. Then, bring your laptop to our testing site, (either at 3AC105 or EB2268D).  We will examine your system, update your software (if needed) and even customize it for the next location you will be traveling to.  We'll also provide a training session in accessing the network remotely with your laptop.\n",
      "\n",
      "If you are interested in participating, simply access the web site and schedule an appointment.\n",
      "\n",
      "Thank you for your time.\n",
      "The Ready2Go Team\n"
     ]
    }
   ],
   "source": [
    "/ here is the random email from the dataset\n",
    "-1 jeffcorpus[ready2go]`text;"
   ]
  },
  {
   "cell_type": "code",
   "execution_count": 18,
   "metadata": {},
   "outputs": [
    {
     "data": {
      "text/plain": [
       "ready2go | 15.45504\n",
       "laptop   | 13.11152\n",
       "remotely | 10.278\n",
       "customize| 9.410488\n",
       "itcentral| 7.864036\n"
      ]
     },
     "execution_count": 18,
     "metadata": {},
     "output_type": "execute_result"
    }
   ],
   "source": [
    "/ here we can see that ready2go is the most frequent word\n",
    "5#desc .nlp.TFIDF[jeffcorpus]1637"
   ]
  },
  {
   "cell_type": "markdown",
   "metadata": {},
   "source": [
    "## Searching \n",
    "\n",
    "Searching can be done using words, documents, or collections of documents as the query or dataset. To search for documents similar to a given document, you can represent all documents as feature vectors using TF-IDF, then compare the cosine similarity of the query document to those in the dataset and find the most similar documents, with the cosine similarity giving a relevance score. Feature vectors are extremely composable. To search by a collection of documents, just sum the feature vectors for all the elements in the query to get a single vector you can use for searching.\n"
   ]
  },
  {
   "cell_type": "code",
   "execution_count": 19,
   "metadata": {},
   "outputs": [
    {
     "data": {
      "text/plain": [
       ",309\n"
      ]
     },
     "execution_count": 19,
     "metadata": {},
     "output_type": "execute_result"
    },
    {
     "name": "stdout",
     "output_type": "stream",
     "text": [
      "Fire Chief Committee\n",
      "\n",
      "Dear Jeff:\n",
      "\n",
      "    Thank you again for extending me an invitation to be on your committee to\n",
      "select the new Houston Fire Chief.  I look forward with much enthusiasm and\n",
      "excitement to working with you and the committee members on this very\n",
      "important project.\n",
      "\n",
      "    I enjoyed our visit at the Doubletree immensely. It was great walking\n",
      "down memory lane and recalling our days in Cambridge. We probably passed each\n",
      "other at Harvard Square at some point during our time there.  As I said, I am\n",
      "a great admirer of you and ENRON. The innovation, creativity and unique\n",
      "(though soon to be widely copied) business plan make ENRON one of Houston's\n",
      "(and the nation's, maybe also California's in the near future) great assets.\n",
      "\n",
      "     Since the subject came up in our conversation, I will add a short\n",
      "personal note. After reviewing several potential transactions this week, it\n",
      "is quite possible that my partners and I will be entering into a \"business\n",
      "defining\" transaction in the next two months. Since I am a lousy golfer, I\n",
      "will be exploring new challenges.\n",
      "\n",
      "    Thursday, at the fire station, should be fun. I can see you and the mayor\n",
      "in one of the hook and ladder trucks for the photo op.\n",
      "\n",
      "Take care,\n",
      "\n",
      "Roel \n"
     ]
    }
   ],
   "source": [
    "where jeffcorpus[`text] like \"Fire Chief Committee*\"\n",
    "queryemail:first jeffcorpus where jeffcorpus[`text] like \"Fire Chief Committee*\"\n",
    "-1 queryemail`text;"
   ]
  },
  {
   "cell_type": "code",
   "execution_count": 20,
   "metadata": {},
   "outputs": [
    {
     "data": {
      "text/plain": [
       "306\n"
      ]
     },
     "execution_count": 20,
     "metadata": {},
     "output_type": "execute_result"
    }
   ],
   "source": [
    "first 1_idesc .nlp.compareDocs[queryemail`keywords]each jeffcorpus`keywords\n",
    "mostsimilar:jeffcorpus first 1_idesc .nlp.compareDocs[queryemail`keywords]each jeffcorpus`keywords"
   ]
  },
  {
   "cell_type": "code",
   "execution_count": 21,
   "metadata": {},
   "outputs": [
    {
     "name": "stdout",
     "output_type": "stream",
     "text": [
      "Select Comm AGENDA - Jan 25-Febr 1\n",
      "\n",
      "Houston Fire Chief Selection Committee Members: Jeff Skilling - Chairperson, \n",
      "Troy Blakeney, Gerald Smith, Roel Campos and James Duke.\n",
      "\n",
      "Congratulations selection committee members! We have a very important and \n",
      "exciting task ahead of us. \n",
      "\n",
      "On the agenda for the next week are two important items - (1) the Mayor's \n",
      "February 1 news conference announcing the Houston Fire Chief selection \n",
      "committee and its members; and (2) coordination of an action plan, which we \n",
      "should work out prior to the news conference.\n",
      "\n",
      "News Conference specifics:\n",
      "speakers - Mayor Brown and Jeff Skilling\n",
      "in attendance - all selection committee members\n",
      "location - Fire Station #6, 3402 Washington Ave.\n",
      "date - Thursday, February 1, 2001\n",
      "time - 2pm\n",
      "duration - approximately 30 minutes\n",
      "\n",
      "I'd like to emphasize that it would be ideal if all selection committee \n",
      "members were present at the news conference. \n",
      "\n",
      "I will need bios on each committee member emailed to me by close of business \n",
      "Monday, January 29, 2001. These bios will be attached to a press release the \n",
      "Mayor's Office is compiling.\n",
      "\n",
      "Coordination of action plan:\n",
      "Since we have only 1 week between now and the news conference, Jeff has \n",
      "proposed that he take a stab at putting together an initial draft. He will \n",
      "then email to all committee members for comments/suggestions and make changes \n",
      "accordingly. Hope this works for everyone - if not, give me a call \n",
      "(713)-345-4840.\n",
      "\n",
      "Thanks,\n",
      "Lisa\n",
      "\n"
     ]
    }
   ],
   "source": [
    "-1 mostsimilar`text;"
   ]
  },
  {
   "cell_type": "markdown",
   "metadata": {},
   "source": [
    "When documents are marked as similar, either by a clustering algorithm, or when searching for documents similar to some other document, it may not always be obvious why a result matched, or why it has the relevance score it was given. For any pair of documents or centroids, the list of features can score can be sorted by how much they contribute to the similarity. This example compares two of former Enron CEO Jeff Skilling’s emails, both of which have in common the subject of selecting Houston’s next fire chief.\n",
    "\n",
    "\n",
    "### Comparing feature vectors \n",
    "\n",
    "The cosine similarity of two vectors is the dot product of two vectors over the product of their magnitudes. It is a standard distance metric for comparing document. The explainSimilarity function calculates how much each shared term contributre to the cosine similarity and sorts it in descending order. "
   ]
  },
  {
   "cell_type": "code",
   "execution_count": 22,
   "metadata": {},
   "outputs": [
    {
     "data": {
      "text/plain": [
       "fire     | 0.2356875\n",
       "roel     | 0.1325517\n",
       "committee| 0.1183095\n",
       "mayor    | 0.1179032\n",
       "since    | 0.08990038\n",
       "station  | 0.0850332\n",
       "chief    | 0.06281811\n",
       "select   | 0.0393875\n",
       "important| 0.03497948\n",
       "members  | 0.03220782\n"
      ]
     },
     "execution_count": 22,
     "metadata": {},
     "output_type": "execute_result"
    }
   ],
   "source": [
    "/ returns what terms contribute to the similarity\n",
    "10#.nlp.explainSimilarity . jeffcorpus[`keywords]306 309"
   ]
  },
  {
   "cell_type": "markdown",
   "metadata": {},
   "source": [
    "### Finding outliers\n",
    "\n",
    "The centroid of a collection of documents is the average of their feature vectors. As such, documents close to the centroid are representative, while those far away are the outliers. Given a collection of documents, finding outliers can be a quick way to find interesting documents, those that have been mis-clustered, or those not relevant to the collection.\n",
    "\t\n",
    "The emails of former Enron CEO Ken Lay contain 1124 emails with a petition. Nearly all of these use the default text, only changing the name, address and email address. To find those petitions which have been modified, sorting by distance from the centroid gives emails where the default text has been completely replaced, added to, or has had portions removed, with the emails most heavily modified appearing first.\n"
   ]
  },
  {
   "cell_type": "code",
   "execution_count": 23,
   "metadata": {},
   "outputs": [
    {
     "data": {
      "text/plain": [
       "0.2857592 0.2298067 0.3004258 0.246543 0.321758 0.2150244 0.3225884 0.2786702 0.261679 0.2913605 ..\n"
      ]
     },
     "execution_count": 23,
     "metadata": {},
     "output_type": "execute_result"
    },
    {
     "data": {
      "text/plain": [
       "54 15 11 235 277 272 163 752 861 232 970 88 815 587 992 507 964 1062 946 418 255 406 1047 1076 92..\n"
      ]
     },
     "execution_count": 23,
     "metadata": {},
     "output_type": "execute_result"
    }
   ],
   "source": [
    "\\c 30 100\n",
    "petition:laycorpus where laytable[`subject] like \"Demand Ken*\"\n",
    "centroid:sum petition`keywords\n",
    ".nlp.i.compareDocToCentroid[centroid]each petition`keywords\n",
    "iasc .nlp.i.compareDocToCentroid[centroid]each petition`keywords\n",
    "outliers:petition iasc .nlp.i.compareDocToCentroid[centroid]each petition`keywords"
   ]
  },
  {
   "cell_type": "markdown",
   "metadata": {},
   "source": [
    "Sorting the petitions by distance from centroid reveals many angry and threatening emails from Enron stockholders following the scandal, which are outliers due to their colourful language otherwise absent from the corpus, with sentences such as “The world, and possibly the afterworld, demand your repentence” and \"I hope your ill-gotten gains do not serve you in any good way\"."
   ]
  },
  {
   "cell_type": "code",
   "execution_count": 24,
   "metadata": {},
   "outputs": [
    {
     "name": "stdout",
     "output_type": "stream",
     "text": [
      "Demand Ken Lay Donate Proceeds from Enron Stock Sales\n",
      "\n",
      "Gordon Wiltsie\n",
      "Bozeman, MT\n",
      "gw@alpenimage.com\n",
      "\n",
      "To Mr. Ken Lay,\n",
      "\n",
      "In the interest of saving your own soul (not to mention the ability to sleep at night) I urge you to donate the millions of dollars you made from selling Enron stock to such funds as the Enron Employee Transition Fund.  I recommend that you encourage your fellow executives to do the same.  Whether you are religious or not, karma is a very real force in this universe.   God or no god, your actions will have consequences for both you and the nation for decades into the future. The world, and possibly the afterworld, demand your repentence.  Do you really want to go to Hell?\n",
      "\n",
      "If there is a shred of honor in your life, you will make amends for selling $101 million worth of Enron stock while aggressively urging the company's employees to keep buying it.  Please donate this money to the funds set up to help repair the lives of those Americans hurt by Enron's underhanded dealings.\n",
      "\n",
      "You're a smart man and you can still make other millions to fund your retirement.\n",
      "\n",
      "Sincerely,\n",
      "\n",
      "Gordon Wiltsie\n"
     ]
    }
   ],
   "source": [
    "/showing an email that is classed as an outlier\n",
    "-1 (outliers 0)`text;"
   ]
  },
  {
   "cell_type": "markdown",
   "metadata": {},
   "source": [
    "## Clustering\n",
    "\n",
    "When exploring a set of documents, a very useful operation is clustering. This will show the major themes in a dataset, allowing you to focus in on relevant areas, and filter out sections of the dataset that are not related to the analysis.\n",
    "\n",
    "Clusters can be summarized by their centroids, which are the sum of the feature vectors of all the documents they contain. Centroids are useful for giving a quick summary of a cluster’s contents. \n",
    "\n",
    "\n",
    "### Finding the cluster cohersion\n",
    "As clustering a dataset may result in hundreds of clusters, it is helpful to be able to sort the results by quality. The cohesiveness of a cluster is a measure of how similar the documents are within that cluster.  It is calculated as the mean sum of squares error, which aggregates each document’s distance from the centroid. Sorting by cohesiveness will give very focused clusters first. Sorting by cluster size is also useful, as this will show the larger themes within the dataset.\n",
    "\n",
    "The format function takes a corpus, and a list of clusters (as document indices), and gives the size, cohesion and keywords for each cluster."
   ]
  },
  {
   "cell_type": "code",
   "execution_count": 25,
   "metadata": {
    "collapsed": true
   },
   "outputs": [],
   "source": [
    "format: {[corpus; clusters]\n",
    "    // Get the most relevant descriptors of each cluster\n",
    "    summaries: {[docs]\n",
    "        : (!) . flip (\n",
    "            (`size; count docs);\n",
    "            (`cohesion; .nlp.cluster.MSE docs);\n",
    "            (`keywords; enlist key .nlp.i.takeTop[10] avg docs));\n",
    "        } each corpus[`keywords] clusters;\n",
    "\n",
    "    // Remove any outliers\n",
    "    summaries: select from summaries where size > 1;\n",
    "    \n",
    "    // Sort by cohesion\n",
    "    : summaries idesc summaries[`cohesion];\n",
    "    };"
   ]
  },
  {
   "cell_type": "markdown",
   "metadata": {},
   "source": [
    "### Summarize Clustering\n",
    "\n",
    "This is a fast clustering algorithm that produces cohesive and reasonably sized clusters. It finds the n documents that best summaries the n most important keywords in the corpus, then clusters the remaining documents around these centroids. For Jeff Skilling's emails, this produces clusters for various re-occuring reports, such as the EnronOnline and ENE reports, as well as clusters for fraternity emails."
   ]
  },
  {
   "cell_type": "code",
   "execution_count": 26,
   "metadata": {},
   "outputs": [
    {
     "data": {
      "text/plain": [
       "size cohesion   keywords                                                                         ..\n",
       "-------------------------------------------------------------------------------------------------..\n",
       "39   0.7295696  notional enrononline counterparties daily transactions summary average transactin..\n",
       "42   0.6849735  notification violation memo erv viewing published named website revision publishe..\n",
       "33   0.5987458  intranet enrononline reports secured login appear http://eolinfo.enron.com dropdo..\n",
       "23   0.5205989  murdock erica jerry harris unauthorized dinners printout forbidden error destroy ..\n",
       "20   0.4443998  succession direction ready role that=20 cylinders effecti= all=20 i=01,m everyone..\n",
       "31   0.4272669  goal raise slipped incredibly pledge ms150 well wo consideration lon             ..\n",
       "6    0.4155249  gap violation maturity notification memo http://erv.corp.enron.com/linkfromexcel...\n",
       "31   0.3798483  ewooglin intelligence seti http://docs.yahoo.com/info/terms/ shack betas reunion ..\n",
       "45   0.3514785  kudlow commentary l. latest llc take microsoft hyperlink word j.                 ..\n",
       "23   0.3392467  addressee(s exclusive disclosure draw contained confidentiality proprietary inten..\n",
       "9    0.3109439  peer mapping oxley excercise prc remapping placed illustrate structure moving    ..\n",
       "15   0.3007091  kevin hannon sera@enron skilling@enron enron_development stdolelink lon communica..\n",
       "33   0.2376457  ene attendees macerich angela schwarz conferences delainey peer highly metafile  ..\n",
       "10   0.2172201  manner intranet kase technical logical patterns basics chart traders directories ..\n",
       "70   0.2090036  prc srs karen memo mpr attached committee reps associate franz                   ..\n",
       "20   0.2018039  esource presents training seats sessions taylor vendor seat stephanie e.         ..\n",
       "12   0.1927457  communications@enron dorothy dalton communications ken bbs enron@enron band adven..\n",
       "3    0.1836415  bares commentary uncomfortable quarterly eaton philosophy account loomis sayles c..\n",
       "50   0.1076697  survey letter christie participation --christie responses browser globe mckinsey ..\n",
       "14   0.09083282 towbin c.e. unterberg buys wsj tech inc effect msft makes                        ..\n",
       "2074 0.01256889 for best thank help regards good dear hope fax as                                ..\n"
      ]
     },
     "execution_count": 26,
     "metadata": {},
     "output_type": "execute_result"
    }
   ],
   "source": [
    "clusters:.nlp.cluster.summarize[jeffcorpus;20];\n",
    "\n",
    "format[jeffcorpus; clusters]"
   ]
  },
  {
   "cell_type": "markdown",
   "metadata": {},
   "source": [
    "### MCL Clustering \n",
    "\n",
    "For clustering under 1000 documents, MCL clustering an algorithm that lets you choose the trade-off between cluster size and cohesion very precisely. It takes as a parameter the minimum similarity at which it will consider documents related. Setting this parameter very high will cluster different drafts or versions of the same document together, while setting it low finds large clusters of thematically related documents.\n",
    "\n",
    "This algorithm can be demonstrated well on the IEEE VAST 2014 Challenge data, which includes a collection of fictional news articles describing protests around corporate pollution of groundwater and a related kidnapping. You can download it from http://vacommunity.org/VAST+Challenge+2014%3A+Mini-Challenge+1#Available_Data"
   ]
  },
  {
   "cell_type": "code",
   "execution_count": 27,
   "metadata": {
    "collapsed": true
   },
   "outputs": [],
   "source": [
    "article:.nlp.loadTextFromDir [\"../data/articles\"]\n",
    "articlecorpus:myparser article[`text]"
   ]
  },
  {
   "cell_type": "code",
   "execution_count": 28,
   "metadata": {},
   "outputs": [
    {
     "data": {
      "text/plain": [
       "size     cohesion \n",
       "------------------\n",
       "21.025   0.3540559\n",
       "12.61194 0.4067295\n",
       "7.473214 0.4916616\n",
       "5.748252 0.512234 \n",
       "4.865385 0.5401827\n",
       "3.94964  0.6256382\n",
       "2.825397 0.7188214\n"
      ]
     },
     "execution_count": 28,
     "metadata": {},
     "output_type": "execute_result"
    }
   ],
   "source": [
    "compare: {[similarity]\n",
    "    clusters:.nlp.cluster.MCL[articlecorpus;similarity;0b];\n",
    "     `size`cohesion!(avg count each clusters;avg .nlp.cluster.MSE each articlecorpus[`keywords] clusters)};\n",
    "\n",
    "compare each .07 .1 .2 .3 .4 .5 .6"
   ]
  },
  {
   "cell_type": "markdown",
   "metadata": {},
   "source": [
    "## Radix Clustering\n",
    "\n",
    "For clustering very large datasets, .nlp.radix and .nlp.fastRadix can be used. These are very performant, .nlp.fastRadix can cluster millions of documents per minute, and .nlp.radix can cluster tens of thousands of documents per minute."
   ]
  },
  {
   "cell_type": "code",
   "execution_count": 29,
   "metadata": {},
   "outputs": [
    {
     "data": {
      "text/plain": [
       "2603\n"
      ]
     },
     "execution_count": 29,
     "metadata": {},
     "output_type": "execute_result"
    },
    {
     "data": {
      "text/plain": [
       "54 1002992\n"
      ]
     },
     "execution_count": 29,
     "metadata": {},
     "output_type": "execute_result"
    }
   ],
   "source": [
    "count jeffcorpus\n",
    "\\ts .nlp.cluster.radix[jeffcorpus; 50]"
   ]
  },
  {
   "cell_type": "markdown",
   "metadata": {},
   "source": [
    "## Working with dates and times\n",
    "The IEEE VAST 2014 Challenge data, from the section on MCL clustering, has several articles describes a kidnapping. One of the problems in the challenge is to build a timeline of the day of the kidnapping, given a collection of news articles. This finds the dates of all documents, and any sentences containing times, and uses that to build a timeline. "
   ]
  },
  {
   "cell_type": "code",
   "execution_count": 30,
   "metadata": {},
   "outputs": [
    {
     "data": {
      "text/plain": [
       "time  text                                                                                       ..\n",
       "-------------------------------------------------------------------------------------------------..\n",
       "02:00 \"1853 MODERNIZATION - speculation that the arrival of PM of 2:00 of the civil employee of g..\n",
       "10:00 \"The cars of the body of firemen of Avila were sent to the headquarters of GAStech - of Kro..\n",
       "10:00 \"Little time after the morning the meeting was closed with 10:00, trucks of department of f..\n",
       "10:00 \"Abila Fire Department trucks were dispatched to GAStech - Kronos headquarters around 10:00..\n",
       "10:00 \"Shortly after the morning meeting ended at 10:00, Abila Fire Department trucks responded t..\n",
       "10:00 \"Shortly after tomorrow the meeting finished in the 10:00, Abila that the cars of the body ..\n",
       "10:00 \"Abila Fire Department trucks were dispatched to GAStech - Kronos headquarters around 10:00..\n",
       "10:00 \"Abila Fire Department trucks were dispatched to GAStech - Kronos headquarters around 10:00..\n",
       "10:00 \"Trucks of department of fire of Abila were dispatched with the registered offices of GASte..\n",
       "10:00 \"Shortly after the morning meeting ended at 10:00, Abila Fire Department trucks responded t..\n",
       "10:00 \"The freight carriages of the department of the fire of Abila to hoofdkwartier GAStech - Kr..\n",
       "10:00 \"Shortly after the morning meeting who becomes at 10:00 gebeindigd, the freight carriages o..\n",
       "10:15 \"At approximately 10:15 AM this morning, the fire alarm went off at the GAStech headquarter..\n",
       "10:15 \"Approximately to the 10:15 this morning, the fire fire signaler has been extinguished to t..\n",
       "10:20 \"Modernization, 10:20:  It employs you of GAStech evacuate the sheets of the helicopter and..\n",
       "10:20 \"Update, 10:20 AM:  GAStech employees evacuate the building and a helicopter leaves from th..\n",
       "10:30 \"Modernization, 10:30:  The fire unit of Abila answers to the alarm.\"                      ..\n",
       "10:30 \"Update, 10:30 AM:  Abila fire department responds to the alarm.\"                          ..\n",
       "10:50 \"Update, 10:50 AM:  A GAStech employee reports that the fire alarm was pulled in response t..\n",
       "10:50 \"Modernization, 10:50:  An employee of GAStech marks it that the fire fire signaler has bee..\n",
       "11:45 \"At 11:45 AM they gave the all clear for the GAStech employees to re-enter the building.\"  ..\n",
       "11:45 \"To the 11:45 they have given all the free one so that the construction employs it you of G..\n",
       "11:45 \"Update, 11:45 AM:  Fire department officials allow GAStech employees to re-enter the build..\n",
       "11:45 \"Modernization, 11:45:  The civil employees of fire unit allow that the construction employ..\n",
       "12:20 \"Update, 12:20 PM:  The Abila police have been called to respond to GAStech headquarters fo..\n",
       "..\n"
      ]
     },
     "execution_count": 30,
     "metadata": {},
     "output_type": "execute_result"
    }
   ],
   "source": [
    "// Use the first date in a document as the date of that document\n",
    "articlecorpus[`date]:{$[x~(); 0nd; x]}each (.nlp.findDates peach articlecorpus[`text])[;0;0];\n",
    "\n",
    "// Filter out documents outside the range we are interested in\n",
    "articlecorpus@:where articlecorpus[`date] = 2014.01.20;\n",
    "\n",
    "// This function will, for each document, pair any sentences containing times\n",
    "// with their parsed timestamp\n",
    "buildTimeline: {[doc]\n",
    "    // Find all the times   \n",
    "    times:.nlp.findTimes doc[`text];\n",
    "    \n",
    "    // Extract the sentences containing those times\n",
    "    sentences:{last \"\\n\\n\" vs x} each .nlp.getSentences[doc] doc[`sentChars][;0] bin times[;2];\n",
    "    \n",
    "    // Pair up sentences with the parsed timestamp\n",
    "    (doc[`date]+times[;0]),'enlist each sentences}\n",
    "\n",
    "// Find the per-document timelines and raze them into a single timeline\n",
    "timeline:raze buildTimeline each articlecorpus;\n",
    "\n",
    "// Sort the timeline\n",
    "timeline:timeline iasc timeline[;0];\n",
    "\n",
    "// Show the sentences, sorted by date and time\n",
    "([]time: `minute$timeline[;0];text:timeline[;1])"
   ]
  },
  {
   "cell_type": "markdown",
   "metadata": {},
   "source": [
    "## Analysing emails from a range of specific dates  "
   ]
  },
  {
   "cell_type": "code",
   "execution_count": 31,
   "metadata": {
    "collapsed": true
   },
   "outputs": [],
   "source": [
    "\\c 30 100\n",
    "/function to extract significant words from a range of dates\n",
    "summarizeWindow:{[d;w]\n",
    "    target:select from d where date within w;\n",
    "    history:select from d where not date within w;\n",
    "    key first .nlp.compareCorpora[target;history]}"
   ]
  },
  {
   "cell_type": "code",
   "execution_count": 32,
   "metadata": {},
   "outputs": [
    {
     "data": {
      "text/plain": [
       "`chuck`150/`closer`ms`chuck.paul@a-closer-look.com`paul`homecoming`http://www.a-closer-look.com`0..\n"
      ]
     },
     "execution_count": 32,
     "metadata": {},
     "output_type": "execute_result"
    }
   ],
   "source": [
    "summarizeWindow[jefftable;2000.04.26 2000.05.06]"
   ]
  },
  {
   "cell_type": "code",
   "execution_count": 33,
   "metadata": {},
   "outputs": [
    {
     "data": {
      "text/plain": [
       "`california=01,s`fms`prevented`state=01,s`solutions`elected`mcbride`utp`deer`eddie`valley`market=..\n"
      ]
     },
     "execution_count": 33,
     "metadata": {},
     "output_type": "execute_result"
    }
   ],
   "source": [
    "summarizeWindow[jefftable;2001.03.10 2001.03.13]"
   ]
  },
  {
   "cell_type": "code",
   "execution_count": 34,
   "metadata": {},
   "outputs": [
    {
     "data": {
      "text/plain": [
       "`lisa`02/26/2001`interview`candidates`questions`troy`pre`lisa.connolly@enron.com`suggestions`roel..\n"
      ]
     },
     "execution_count": 34,
     "metadata": {},
     "output_type": "execute_result"
    }
   ],
   "source": [
    "summarizeWindow[jefftable;2001.02.24 2001.02.26]"
   ]
  },
  {
   "cell_type": "markdown",
   "metadata": {},
   "source": [
    "### Sentiment analysis\n",
    "\n",
    "\n",
    "Using a prebuilt model of the degrees of positive and negative sentiment for English words and emoticons, as well as parsing to account for negation, adverbs and other modifiers, sentences can be scored for their negative, positive and neutral sentiment. \n",
    "\n",
    "* compound value: the overall positive/negative sentiment \n",
    "* pos value: the positive sentiment\n",
    "* neg value: the negative sentiment\n",
    "* neu value: the neural sentiment. A function of the amount of input having no sentiment value. \n",
    "\n",
    "We will extract the sentences from each email and find the most positive and negative sentences.\n"
   ]
  },
  {
   "cell_type": "code",
   "execution_count": 35,
   "metadata": {},
   "outputs": [
    {
     "data": {
      "text/plain": [
       "\"Request from Better Business Bureau\\n\\nDear Jeff:\\n\\nI would like to invite you to honor us as the keynote speaker for the Tenth \\nAnnual Better Business Bureau Awards for Excellence.\"\n",
       "\"\\n\\nShep Moyle, chairman of the seminar, is winner of the 1999 Best of the Best \\nYPO International Education Award winner.\"\n",
       "\"Forbes-Milken Institute Best Places Ranking\\n\\nDear Friend: \\n\\nThe 3rd annual Forbes-Milken Institute Best Places Ranking was released \\ntoday, showing what cities are the best for business and c..\n",
       "\"\\n\\nWe also intend to publish a special  supplement that will provide Awards \\nwinners with an excellent opportunity to  celebrate their achievements \\nthrough advertising.\"\n",
       "\"\\n\\nFirst, I would like to thank you for making this company the great place it \\nis today, and for giving me the opportunity to have a great career here.\"\n",
       "\"\\n\\nFirst, I would like to thank you for making this company the great place it \\nis today, and for giving me the opportunity to have a great career here.\"\n",
       "\"\\n\\nFirst, I would like to thank you for making this company the great place it \\nis today, and for giving me the opportunity to have a great career here.\"\n",
       "\"\\n\\nI hate to harp on these details but it is vital that everyone help out to\\nensure that you have a safe and fun ride.\"\n",
       "\"\\n\\nI hate to harp on these details but it is vital that everyone help out to\\nensure that you have a safe and fun ride.\"\n",
       "\"Congratulations\\n\\n      Dear Jeff;  We just saw the great news------ CONGRATULATIONS.\"\n"
      ]
     },
     "execution_count": 35,
     "metadata": {},
     "output_type": "execute_result"
    },
    {
     "data": {
      "text/plain": [
       "\" She \\nadded the sales wrong on the cash register, she charged the wrong prices for \\nitems, she gave the wrong bag of food to the wrong customer, and she dropped \\nand broke a half-gallon of milk.\"\n",
       "\"Heard no gun fire or bomb blasts from the nearby hills, where \\nrecently some Albanian rebels complaining of an absence of political adn \\neconomic rights had been trying to mess things up a bit.?\"\n",
       "\"\\n>          The wire services are reporting the official death toll at\\n>      10,204--but add that 35,000 are missing beneath the rubble, many\\n>      presumed dead.\"\n",
       "\" I suspect the tower isn't nearly half as\\nbothered by these kid's budding pyromania as me, since it has no doubt\\nbeen subject to much more serious attacks during its 700 or so year\\nhistory.\"\n",
       "\"\\nStating that I will be paid for vacation less any I take between now and the \\nseverance date is deceptive at the least and would not constitute RESPECT, \\nEXCELLENCE nor INTEGRITY!\"\n",
       "\"In addition to finding Dallas County liable for its treatment\\nof Lawson, Buchmeyer ordered the county to pay $250,000 in damages for his\\npain and suffering.\"\n",
       "\"\\n>The government, the army and construction contractors are being severely\\n>criticized in the local press and on the streets (for slowness,\\n>carelessness,\\n>greed?).\"\n",
       "\" I passed three men loading sagging plastic sacks, no\\ndoubt full of the spoils of a recent kill, into the trunk of a car.\"\n",
       "\"There are many troubles which make\\nthe rank and file veterans see a terrible failure of this department to carry\\nout its mission in the near future.\"\n",
       "\" I knew a few people there\\nand, with my poor Turkish, learned that in was really bad in Izmit, sixty of\\nso miles east of here, that even here in Istanbul a few buildings may have\\ncollapsed.\"\n"
      ]
     },
     "execution_count": 35,
     "metadata": {},
     "output_type": "execute_result"
    }
   ],
   "source": [
    "\\c 100 200\n",
    "sentences:10000#{x where(count each x)<200}raze .nlp.getSentences each jeffcorpus\n",
    "scores:.nlp.sentiment each sentences\n",
    "10#sentences idesc scores `compound\n",
    "10#sentences iasc scores `compound"
   ]
  },
  {
   "cell_type": "markdown",
   "metadata": {},
   "source": [
    "### Reading in Mbox files to q.\n",
    "\n",
    "The MBOX file is the most common format for storing email messages on a hard drive. The NLP library has the capability to read in Mbox files and constructs a table of parsed emails.\n",
    "\n",
    "The columns that consist in the table are\n",
    "\n",
    "\n",
    "column   | content\n",
    "---------|------------------------------------------------------------------\n",
    "`sender | list of chars containing the name and email address of the sender\n",
    "`to |  list of chars containing the name and email address of the reciever/recievers\n",
    "`date| timestamp of the date\n",
    "`subject| list of chars containing the subject of the email\n",
    "`text| list of chars containing the text of the email\n",
    "`contentType|list of chars containing the content type of the email\n",
    "`payload| payload\n",
    "\n"
   ]
  },
  {
   "cell_type": "code",
   "execution_count": 36,
   "metadata": {},
   "outputs": [
    {
     "data": {
      "text/plain": [
       "sender                                                            to                                                                                                                                 ..\n",
       "-----------------------------------------------------------------------------------------------------------------------------------------------------------------------------------------------------..\n",
       "\"Anna Weitzman\" \"Weitzman@si.edu\"                                 ,(\"\";\"TDWG-Lit@lists.tdwg.org\")                                                                                                    ..\n",
       "\"Anna Weitzman\" \"Weitzman@si.edu\"                                 ,(\"\";\"TDWG-Lit@lists.tdwg.org\")                                                                                                    ..\n",
       "\"Anna Weitzman\" \"Weitzman@si.edu\"                                 ,(\"\";\"TDWG-Lit@lists.tdwg.org\")                                                                                                    ..\n",
       "\"Anna Weitzman\" \"Weitzman@si.edu\"                                 ,(\"\";\"TDWG-Lit@lists.tdwg.org\")                                                                                                    ..\n",
       "\"Anna Weitzman\" \"Weitzman@si.edu\"                                 ,(\"\";\"TDWG-Lit@lists.tdwg.org\")                                                                                                    ..\n",
       "\"Nozomi Ytow\" \"nozomi@biol.tsukuba.ac.jp\"                         ,(\"\";\"TDWG-Lit@lists.tdwg.org\")                                                                                                    ..\n",
       "\"Anna Weitzman\" \"Weitzman@si.edu\"                                 ,(\"\";\"TDWG-Lit@lists.tdwg.org\")                                                                                                    ..\n",
       "\"Nozomi Ytow\" \"nozomi@biol.tsukuba.ac.jp\"                         ,(\"\";\"TDWG-Lit@lists.tdwg.org\")                                                                                                    ..\n",
       "\"Richard Pyle\" \"deepreef@bishopmuseum.org\"                        ,(\"\";\"TDWG-Lit@lists.tdwg.org\")                                                                                                    ..\n",
       "\"Nozomi Ytow\" \"nozomi@biol.tsukuba.ac.jp\"                         ,(\"\";\"TDWG-Lit@lists.tdwg.org\")                                                                                                    ..\n",
       "\"Donald Hobern\" \"dhobern@gbif.org\"                                ((\"'Anna Weitzman'\";\"Weitzman@si.edu\");(\"\";\"TDWG-Lit@lists.tdwg.org\"))                                                             ..\n",
       "\"Donald Hobern\" \"dhobern@gbif.org\"                                ((\"'Anna Weitzman'\";\"Weitzman@si.edu\");(\"\";\"TDWG-Lit@lists.tdwg.org\"))                                                             ..\n",
       "\"Donald Hobern\" \"dhobern@gbif.org\"                                ((\"'Anna Weitzman'\";\"Weitzman@si.edu\");(\"\";\"TDWG-Lit@lists.tdwg.org\"))                                                             ..\n",
       "\"Gregor Hagedorn\" \"G.Hagedorn@BBA.DE\"                             ,(\"\";\"TDWG-Lit@lists.tdwg.org\")                                                                                                    ..\n",
       "\"Gregor Hagedorn\" \"G.Hagedorn@BBA.DE\"                             ,(\"\";\"TDWG-Lit@lists.tdwg.org\")                                                                                                    ..\n",
       "\"Anna Weitzman\" \"Weitzman@si.edu\"                                 ((\"\";\"TDWG-Lit@lists.tdwg.org\");(\"Roger Hyam\";\"roger@hyam.net\"))                                                                   ..\n",
       "\"Anna Weitzman\" \"Weitzman@si.edu\"                                 ,(\"\";\"TDWG-Lit@lists.tdwg.org\")                                                                                                    ..\n",
       "\"Anna Weitzman\" \"Weitzman@si.edu\"                                 ,(\"\";\"TDWG-Lit@lists.tdwg.org\")                                                                                                    ..\n",
       "\"Roger Hyam\" \"roger@tdwg.org\"                                     ((\"Anna Weitzman\";\"Weitzman@si.edu\");(\"\";\"TDWG-Lit@lists.tdwg.org\"))                                                               ..\n",
       "\"Gregor Hagedorn\" \"G.Hagedorn@BBA.DE\"                             ,(\"\";\"TDWG-Lit@lists.tdwg.org\")                                                                                                    ..\n",
       "\"Gregor Hagedorn\" \"G.Hagedorn@BBA.DE\"                             ,(\"\";\"TDWG-Lit@lists.tdwg.org\")                                                                                                    ..\n",
       "\"Anna Weitzman\" \"Weitzman@si.edu\"                                 ,(\"\";\"TDWG-Lit@lists.tdwg.org\")                                                                                                    ..\n",
       "\"Neil Thomson\" \"N.Thomson@nhm.ac.uk\"                              ((\"Anna Weitzman\";\"Weitzman@si.edu\");(\"\";\"TDWG-Lit@lists.tdwg.org\"))                                                               ..\n",
       "\"Gregor Hagedorn\" \"G.Hagedorn@BBA.DE\"                             ,(\"\";\"TDWG-Lit@lists.tdwg.org\")                                                                                                    ..\n",
       "\"Anna Weitzman\" \"Weitzman@si.edu\"                                 ,(\"\";\"TDWG-Lit@lists.tdwg.org\")                                                                                                    ..\n",
       "\"Anna Weitzman\" \"Weitzman@si.edu\"                                 ,(\"\";\"TDWG-Lit@lists.tdwg.org\")                                                                                                    ..\n",
       "\"Donald Hobern\" \"dhobern@gbif.org\"                                ((\"'Taxonomic Databases Working Group GUID Project'\";\"TDWG-GUID@LISTSERV.NHM.KU.EDU\");(\"\";\"tdwg-lit@lists.tdwg.org\"))              ..\n",
       "\"Ricardo Scachetti Pereira\" \"ricardo@tdwg.org\"                    ((\"\";\"tdwg-tapir@lists.tdwg.org\");(\"\";\"tdwg-process@lists.tdwg.org\");(\"\";\"tdwg-img@lists.tdwg.org\");(\"\";\"tdwg-obs@lists.tdwg.org\");..\n",
       "\"Ricardo Scachetti Pereira\" \"ricardo@tdwg.org\"                    ((\"\";\"tdwg-tapir@lists.tdwg.org\");(\"\";\"tdwg-process@lists.tdwg.org\");(\"\";\"tdwg-img@lists.tdwg.org\");(\"\";\"tdwg-obs@lists.tdwg.org\");..\n",
       "\"Ricardo Scachetti Pereira\" \"ricardo@tdwg.org\"                    ((\"\";\"tdwg-tapir@lists.tdwg.org\");(\"\";\"tdwg-process@lists.tdwg.org\");(\"\";\"tdwg-img@lists.tdwg.org\");(\"\";\"tdwg-obs@lists.tdwg.org\");..\n",
       "\"Weitzman, Anna\" \"WEITZMAN@si.edu\"                                ((\"\";\"tdwg-lit@lists.tdwg.org\");(\"Barry Conn\";\"barry.conn@rbgsyd.nsw.gov.au\");(\"=?iso-8859-1?Q?Arturo_H=2E_Ari=F1o?=\";\"artarip@unav..\n",
       "\"Weitzman, Anna\" \"WEITZMAN@si.edu\"                                ((\"\";\"tdwg-lit@lists.tdwg.org\");(\"Barry Conn\";\"barry.conn@rbgsyd.nsw.gov.au\");(\"Norm Johnson\";\"johnson.2@osu.edu\");(\"P. Bryan Heido..\n",
       "\"Weitzman, Anna\" \"WEITZMAN@si.edu\"                                ((\"\";\"TDWG-Lit@lists.tdwg.org\");(\"Lee Belbin\";\"leebel@netspace.net.au\");(\"Dave Remsen\";\"dremsen@mbl.edu\");(\"Cynthia Sims Parr\";\"csp..\n",
       "\"Weitzman, Anna\" \"WEITZMAN@si.edu\"                                ((\"\";\"TDWG-Lit@lists.tdwg.org\");(\"Lee Belbin\";\"leebel@netspace.net.au\");(\"\";\"dremsen@gbif.org\");(\"Cynthia Sims Parr\";\"csparr@umd.ed..\n",
       "\"Weitzman, Anna\" \"WEITZMAN@si.edu\"                                ((\"\";\"TDWG-Lit@lists.tdwg.org\");(\"Lee Belbin\";\"leebel@netspace.net.au\");(\"\";\"dremsen@gbif.org\");(\"Cynthia Sims Parr\";\"csparr@umd.ed..\n",
       "\"Chris Freeland\" \"Chris.Freeland@mobot.org\"                       ((\"\";\"Biodivheritagelibrary@lists.amnh.org\");(\"\";\"bhl@archive.org\");(\"\";\"tdwg-guid@lists.tdwg.org\");(\"\";\"tdwg-lit@lists.tdwg.org\");..\n",
       "\"Chris Freeland\" \"Chris.Freeland@mobot.org\"                       ,(\"\";\"tdwg-lit@lists.tdwg.org\")                                                                                                    ..\n",
       "\"Chris Freeland\" \"Chris.Freeland@mobot.org\"                       ,(\"\";\"tdwg-lit@lists.tdwg.org\")                                                                                                    ..\n",
       "\"Donat Agosti\" \"agosti@amnh.org\"                                  ((\"\";\"tdwg-lit@lists.tdwg.org\");(\"\";\"tdwg@lists.tdwg.org\"))                                                                        ..\n",
       "\"Donat Agosti\" \"agosti@amnh.org\"                                  ,(\"\";\"tdwg-lit@lists.tdwg.org\")                                                                                                    ..\n",
       "\"Donat Agosti\" \"agosti@amnh.org\"                                  ,(\"\";\"tdwg-lit@lists.tdwg.org\")                                                                                                    ..\n",
       "\"Donat Agosti\" \"agosti@amnh.org\"                                  ((\"\";\"tdwg-lit@lists.tdwg.org\");(\"Peter Suber\";\"peters@earlham.edu\"))                                                              ..\n",
       "\"Donat Agosti\" \"agosti@amnh.org\"                                  ,(\"\";\"tdwg-lit@lists.tdwg.org\")                                                                                                    ..\n",
       "\"Donat Agosti\" \"agosti@amnh.org\"                                  ((\"\";\"tdwg-lit@lists.tdwg.org\");(\"TDWG - Structure of Descriptive Data (TDWG - Structure of Descriptive\\n\\tData)\";\"TDWG-SDD@USOBI.O..\n",
       "\"=?iso-8859-1?Q?Markus_D=F6ring_=28GBIF=29?=\" \"mdoering@gbif.org\" ((\"\";\"tdwg-lit@lists.tdwg.org\");(\"Lee Belbin\";\"lee@blatantfabrications.com\"))                                                      ..\n",
       "\"Weitzman, Anna\" \"WEITZMAN@si.edu\"                                ((\"=?iso-8859-1?Q?=27Markus_D=F6ring_=28GBIF=29=27?=\";\"mdoering@gbif.org\");(\"tdwg-lit@lists.tdwg.org\";\"tdwg-lit@lists.tdwg.org\");(\"..\n"
      ]
     },
     "execution_count": 36,
     "metadata": {},
     "output_type": "execute_result"
    }
   ],
   "source": [
    "Mboxemails:.nlp.loadEmails \"../data/tdwg-lit.mbox\"\n",
    "Mboxemails"
   ]
  },
  {
   "cell_type": "markdown",
   "metadata": {},
   "source": [
    "The following function returns a table of who emailed who and the number of times they emails each other."
   ]
  },
  {
   "cell_type": "code",
   "execution_count": 37,
   "metadata": {},
   "outputs": [
    {
     "data": {
      "text/plain": [
       "sender                    to                                   volume\n",
       "---------------------------------------------------------------------\n",
       "Weitzman@si.edu           TDWG-Lit@lists.tdwg.org              12    \n",
       "agosti@amnh.org           tdwg-lit@lists.tdwg.org              6     \n",
       "G.Hagedorn@BBA.DE         TDWG-Lit@lists.tdwg.org              5     \n",
       "Chris.Freeland@mobot.org  tdwg-lit@lists.tdwg.org              3     \n",
       "WEITZMAN@si.edu           Alex.Chapman@dec.wa.gov.au           3     \n",
       "WEITZMAN@si.edu           TDWG-Lit@lists.tdwg.org              3     \n",
       "WEITZMAN@si.edu           csparr@umd.edu                       3     \n",
       "WEITZMAN@si.edu           leebel@netspace.net.au               3     \n",
       "WEITZMAN@si.edu           tdwg-lit@lists.tdwg.org              3     \n",
       "dhobern@gbif.org          TDWG-Lit@lists.tdwg.org              3     \n",
       "dhobern@gbif.org          Weitzman@si.edu                      3     \n",
       "nozomi@biol.tsukuba.ac.jp TDWG-Lit@lists.tdwg.org              3     \n",
       "ricardo@tdwg.org          a.rissone@nhm.ac.uk                  3     \n",
       "ricardo@tdwg.org          leebel@netspace.net.au               3     \n",
       "ricardo@tdwg.org          tdwg-img@lists.tdwg.org              3     \n",
       "ricardo@tdwg.org          tdwg-lit@lists.tdwg.org              3     \n",
       "ricardo@tdwg.org          tdwg-obs@lists.tdwg.org              3     \n",
       "ricardo@tdwg.org          tdwg-process@lists.tdwg.org          3     \n",
       "ricardo@tdwg.org          tdwg-tag@lists.tdwg.org              3     \n",
       "ricardo@tdwg.org          tdwg-tapir@lists.tdwg.org            3     \n",
       "WEITZMAN@si.edu           a.paton@kew.org                      2     \n",
       "WEITZMAN@si.edu           barry.conn@rbgsyd.nsw.gov.au         2     \n",
       "WEITZMAN@si.edu           dremsen@gbif.org                     2     \n",
       "WEITZMAN@si.edu           eotuama@gbif.org                     2     \n",
       "WEITZMAN@si.edu           johnson.2@osu.edu                    2     \n",
       "WEITZMAN@si.edu           pheidorn@uiuc.edu                    2     \n",
       "WEITZMAN@si.edu           trobertson@gbif.org                  2     \n",
       "Chris.Freeland@mobot.org  Biodivheritagelibrary@lists.amnh.org 1     \n",
       "Chris.Freeland@mobot.org  bhl@archive.org                      1     \n",
       "Chris.Freeland@mobot.org  code4lib@listserv.nd.edu             1     \n",
       "Chris.Freeland@mobot.org  openlibrary@archive.org              1     \n",
       "Chris.Freeland@mobot.org  tdwg-guid@lists.tdwg.org             1     \n",
       "N.Thomson@nhm.ac.uk       TDWG-Lit@lists.tdwg.org              1     \n",
       "N.Thomson@nhm.ac.uk       Weitzman@si.edu                      1     \n",
       "WEITZMAN@si.edu           artarip@unav.es                      1     \n",
       "WEITZMAN@si.edu           dremsen@mbl.edu                      1     \n",
       "WEITZMAN@si.edu           lee@blatantfabrications.com          1     \n",
       "WEITZMAN@si.edu           mdoering@gbif.org                    1     \n",
       "Weitzman@si.edu           roger@hyam.net                       1     \n",
       "agosti@amnh.org           TDWG-SDD@USOBI.ORG                   1     \n",
       "agosti@amnh.org           peters@earlham.edu                   1     \n",
       "agosti@amnh.org           tdwg@lists.tdwg.org                  1     \n",
       "deepreef@bishopmuseum.org TDWG-Lit@lists.tdwg.org              1     \n",
       "dhobern@gbif.org          TDWG-GUID@LISTSERV.NHM.KU.EDU        1     \n",
       "dhobern@gbif.org          tdwg-lit@lists.tdwg.org              1     \n",
       "mdoering@gbif.org         lee@blatantfabrications.com          1     \n",
       "mdoering@gbif.org         tdwg-lit@lists.tdwg.org              1     \n",
       "roger@tdwg.org            TDWG-Lit@lists.tdwg.org              1     \n",
       "roger@tdwg.org            Weitzman@si.edu                      1     \n"
      ]
     },
     "execution_count": 37,
     "metadata": {},
     "output_type": "execute_result"
    }
   ],
   "source": [
    ".nlp.email.getGraph[Mboxemails]"
   ]
  },
  {
   "cell_type": "markdown",
   "metadata": {},
   "source": [
    "This can then be used to plot an email graph. This was rendered in Analyst for Kx. Node size represents email volume\n",
    "\n",
    "<img src=\"../images/network.png\" />"
   ]
  },
  {
   "cell_type": "code",
   "execution_count": null,
   "metadata": {
    "collapsed": true
   },
   "outputs": [],
   "source": []
  }
 ],
 "metadata": {
  "kernelspec": {
   "display_name": "Q 3.5",
   "language": "q",
   "name": "qpk"
  },
  "language_info": {
   "file_extension": ".q",
   "mimetype": "text/x-q",
   "name": "q",
   "version": "3.5.0"
  }
 },
 "nbformat": 4,
 "nbformat_minor": 2
}
